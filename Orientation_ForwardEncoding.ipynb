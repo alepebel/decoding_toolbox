{
 "cells": [
  {
   "cell_type": "markdown",
   "id": "c19c0239",
   "metadata": {},
   "source": [
    "__Forward encoding model based on Pim Mostert Decoding toolbox__\n",
    "\n",
    "Alexis Pérez Bellido (2022)"
   ]
  },
  {
   "cell_type": "code",
   "execution_count": 65,
   "id": "97c42405-a66e-42d1-a0d6-354c90df5e0e",
   "metadata": {},
   "outputs": [],
   "source": [
    "%matplotlib qt\n",
    "from scipy.io import loadmat\n",
    "import numpy as np\n",
    "import pandas as pd\n",
    "import mat73\n",
    "import sys\n",
    "import inspect #path_fun = inspect.getfile(StratifiedKFold)\n",
    "import matplotlib.pyplot as plt\n",
    "import DecToolbox as dt\n",
    "#print(sys.path)"
   ]
  },
  {
   "cell_type": "markdown",
   "id": "801a0115",
   "metadata": {},
   "source": [
    "Decoding modules"
   ]
  },
  {
   "cell_type": "code",
   "execution_count": 66,
   "id": "ae44a0ed-ac62-4e61-b368-1173b161c8db",
   "metadata": {},
   "outputs": [],
   "source": [
    "path_utils = '/Users/alex/Library/CloudStorage/OneDrive-UniversitatdeBarcelona/Projects/Condcision/Group_level_analyses/Beh_analyses/EEG_condcision_CJ/helper_funcs' \n",
    "sys.path.append(path_utils)"
   ]
  },
  {
   "cell_type": "code",
   "execution_count": 67,
   "id": "02532f87-cab1-489c-94f7-c24fc5e2fa87",
   "metadata": {},
   "outputs": [],
   "source": [
    "path = '/Users/alex/Library/CloudStorage/OneDrive-UniversitatdeBarcelona/TOOLBOXES/decoding-toolbox/data/'\n",
    "path_ori_data = path + 'testdata_orientation.mat'"
   ]
  },
  {
   "cell_type": "markdown",
   "id": "9f0f5209-8015-49bd-b6df-ecf3a1247651",
   "metadata": {},
   "source": [
    "Loading & preparing orientation data"
   ]
  },
  {
   "cell_type": "code",
   "execution_count": 68,
   "id": "c9c035db-ba98-4c6a-a62e-e963ce32e8d0",
   "metadata": {},
   "outputs": [],
   "source": [
    "ori_data = mat73.loadmat(path_ori_data)"
   ]
  },
  {
   "cell_type": "code",
   "execution_count": 213,
   "id": "c8ed4a31-37bf-41e0-9c11-81fda649ca6c",
   "metadata": {},
   "outputs": [],
   "source": [
    "Y = ori_data['Y']\n",
    "X = ori_data['X']\n",
    "time = ori_data['time']\n",
    "label = ori_data['label']"
   ]
  },
  {
   "cell_type": "code",
   "execution_count": 70,
   "id": "b3932267-b1bc-415d-95ef-f7e26b88c269",
   "metadata": {},
   "outputs": [],
   "source": [
    "phi = X * (180/8);   # Presented orientation in degrees\n",
    "binned_phi = np.digitize(phi, bins = np.array([  0, 22.5, 45, 67.5, 90, 112.5, 135, 157.5 ]) ) # bins collapsing degrees by similarity\n",
    "\n",
    "numF = Y.shape[0];\n",
    "numT = Y.shape[1];\n",
    "numN = Y.shape[2];"
   ]
  },
  {
   "cell_type": "code",
   "execution_count": 71,
   "id": "69e9a92f-374b-4890-95ab-3a7791b76858",
   "metadata": {},
   "outputs": [],
   "source": [
    "# No time dimension (We only select one point as example)\n",
    "sel_t = np.where(time >=.2)[0][0];"
   ]
  },
  {
   "cell_type": "markdown",
   "id": "7a3393d5-1532-4133-b93d-ed5a5d825c8f",
   "metadata": {},
   "source": [
    "Creating and saving dat"
   ]
  },
  {
   "cell_type": "code",
   "execution_count": 72,
   "id": "03087be7",
   "metadata": {},
   "outputs": [],
   "source": [
    "G = binned_phi.copy() # binning/discritizing orientation dimension to assign a balanced number of stimuli to different dat\n",
    "CONDS = np.unique(G);\n",
    "nConds = CONDS.size\n",
    "nfold = 2\n",
    "FoldsIdx = dt.CreateFolds(G, Y, nfold)"
   ]
  },
  {
   "cell_type": "code",
   "execution_count": 74,
   "id": "9f3cd23a",
   "metadata": {},
   "outputs": [],
   "source": [
    "dat = dict()\n",
    "dat['X_train'] = G[ FoldsIdx[0]['train_index']]\n",
    "dat['Y_train'] = np.squeeze(Y[:,sel_t, FoldsIdx[0]['train_index']])\n",
    "dat['phi_train'] = phi[ FoldsIdx[0]['train_index']]\n",
    "\n",
    "dat['X_test'] = G[ FoldsIdx[0]['test_index']]\n",
    "dat['Y_test'] = np.squeeze(Y[:,sel_t, FoldsIdx[0]['test_index']])\n",
    "dat['phi_test'] = phi[ FoldsIdx[0]['test_index']]"
   ]
  },
  {
   "cell_type": "code",
   "execution_count": 75,
   "id": "1e34a463",
   "metadata": {},
   "outputs": [
    {
     "data": {
      "text/plain": [
       "<matplotlib.image.AxesImage at 0x7f81d1777550>"
      ]
     },
     "execution_count": 75,
     "metadata": {},
     "output_type": "execute_result"
    }
   ],
   "source": [
    "numC = 8 # how many channels to use\n",
    "\n",
    "cfg = dict()\n",
    "cfg['kappa'] = 4\n",
    "cfg['NumC'] = numC\n",
    "cfg['Tuning'] = 'vonmises'#'halfRectCos'\n",
    "cfg['offset'] = 0\n",
    "\n",
    "design, sortedesign = dt.stim_features(dat['phi_train'], cfg)\n",
    "\n",
    "fig, ax = plt.subplots(1, 1, figsize=(3, 3))\n",
    "plt.imshow(sortedesign,aspect='auto',interpolation = 'none')"
   ]
  },
  {
   "cell_type": "markdown",
   "id": "cf93193b",
   "metadata": {},
   "source": [
    "# for comparing this script and the matlab one\n",
    "import scipy\n",
    "path_folds_data = '/Users/alex/Library/CloudStorage/OneDrive-UniversitatdeBarcelona/Projects/Condcision/Group_level_analyses/Beh_analyses/EEG_condcision_CJ/folds.mat'\n",
    "\n",
    "mat = scipy.io.loadmat(path_folds_data)"
   ]
  },
  {
   "cell_type": "markdown",
   "id": "0066793f",
   "metadata": {},
   "source": [
    "idx_Train = mat['folds'][0][0].T\n",
    "idx_Test =mat['folds'][1][0][0].T"
   ]
  },
  {
   "cell_type": "markdown",
   "id": "8b02b113",
   "metadata": {},
   "source": [
    "#Folds_ori = Folds.copy()\n",
    "dat = {}\n",
    "dat['X_train'] = G[idx_Train-1] # -1 to correct for matlab to python indexes\n",
    "dat['X_test'] = G[idx_Test-1]\n",
    "dat['Y_train'] = np.squeeze(Y[:,sel_t, idx_Train-1])\n",
    "dat['Y_test'] = np.squeeze(Y[:,sel_t, idx_Test-1])\n",
    "dat['phi_train'] = phi[idx_Train-1]\n",
    "dat['phi_test'] = phi[idx_Test-1]"
   ]
  },
  {
   "cell_type": "markdown",
   "id": "b3c95c7a",
   "metadata": {},
   "source": [
    "Create design matrix"
   ]
  },
  {
   "cell_type": "markdown",
   "id": "c6bbd8c5",
   "metadata": {},
   "source": [
    "numC = 8 # how many channels to use\n",
    "\n",
    "cfg = dict()\n",
    "cfg['kappa'] = 4\n",
    "cfg['NumC'] = numC\n",
    "cfg['Tuning'] = 'vonmises'#'halfRectCos'\n",
    "cfg['offset'] = 0\n",
    "\n",
    "design, sortedesign = dt.stim_features(dat['phi_train'], cfg)\n",
    "\n",
    "fig, ax = plt.subplots(1, 1, figsize=(3, 3))\n",
    "plt.imshow(sortedesign,aspect='auto',interpolation = 'none')"
   ]
  },
  {
   "cell_type": "markdown",
   "id": "baeb1875",
   "metadata": {},
   "source": [
    "Training encoding model"
   ]
  },
  {
   "cell_type": "code",
   "execution_count": 76,
   "id": "2dc12dbc",
   "metadata": {},
   "outputs": [],
   "source": [
    "cfg = dict()\n",
    "cfg['gamma'] = 0.01\n",
    "cfg['demean'] = True\n",
    "cfg['returnPattern'] = True\n",
    "decoder = dt.train_encoder(design, dat['Y_train'], cfg)"
   ]
  },
  {
   "cell_type": "markdown",
   "id": "12b3406d",
   "metadata": {},
   "source": [
    "Testing the encoding model"
   ]
  },
  {
   "cell_type": "code",
   "execution_count": 77,
   "id": "85b5df80",
   "metadata": {},
   "outputs": [],
   "source": [
    "cfg = dict()\n",
    "cfg['demean'] = 'traindata'\n",
    "Xhat = dt.test_encoder( decoder, dat['Y_test'], cfg)"
   ]
  },
  {
   "cell_type": "markdown",
   "id": "d4fc6350",
   "metadata": {},
   "source": [
    "__Preparing data for plotting results__"
   ]
  },
  {
   "cell_type": "code",
   "execution_count": 78,
   "id": "dfe8b38b",
   "metadata": {},
   "outputs": [],
   "source": [
    "m = np.zeros((numC,numC))\n",
    "for ic in range(numC):\n",
    "   m[:,ic] =  np.mean( Xhat[:, np.where(dat['X_test'] == (ic+1))[0]], axis = 1)\n"
   ]
  },
  {
   "cell_type": "markdown",
   "id": "940fe71e",
   "metadata": {},
   "source": [
    "Re-alligning predictions for trials with identical orientation"
   ]
  },
  {
   "cell_type": "code",
   "execution_count": 79,
   "id": "4c254369",
   "metadata": {},
   "outputs": [],
   "source": [
    "Xhat_centered = 0*Xhat.copy()\n",
    "for ic in range(numC): # here trials that match similar label orientation are shifted together x positions (np.roll)\n",
    "    Xhat_centered[:,np.where(dat['X_test'] == (ic+1))] = np.roll(Xhat[:,np.where(dat['X_test'] == (ic+1))], -ic, axis = 0)"
   ]
  },
  {
   "cell_type": "code",
   "execution_count": 80,
   "id": "33c1e3e1",
   "metadata": {},
   "outputs": [],
   "source": [
    "m_centered = np.zeros((numC,numC))\n",
    "for ic in range(numC):\n",
    "   m_centered[:,ic] =  np.mean( Xhat_centered[:, np.where(dat['X_test'] == (ic+1))[0]], axis = 1)"
   ]
  },
  {
   "cell_type": "code",
   "execution_count": 81,
   "id": "b5a77198",
   "metadata": {},
   "outputs": [],
   "source": [
    "x_labels = np.array([  0. ,  22.5,  45. ,  67.5,  90. , 112.5, 135. , 157.5])\n",
    "Xhat_centeredmean = np.mean(Xhat_centered, axis = 1)\n",
    "Xhat_centeredsem = np.std(m_centered, axis = 1)/Xhat.shape[1]\n",
    "Xhat_shiftedmean = np.roll(Xhat_centeredmean, 3, axis = 0)\n",
    "Xhat_shiftedsem = np.roll(Xhat_centeredsem, 3, axis = 0)\n",
    "x_centeredlabels = np.roll(x_labels,  3, axis = 0)"
   ]
  },
  {
   "cell_type": "code",
   "execution_count": 82,
   "id": "3011b964",
   "metadata": {},
   "outputs": [
    {
     "data": {
      "text/plain": [
       "0.28435446698274447"
      ]
     },
     "execution_count": 82,
     "metadata": {},
     "output_type": "execute_result"
    }
   ],
   "source": [
    "# Kernel to back project channel outputs to orientation space\n",
    "kernel = np.exp(1j * (np.linspace(0, numC-1,numC)*(2*np.pi/numC)))\n",
    "Z = kernel @ Xhat\n",
    "\n",
    "theta = np.mod(np.angle(Z), 2*np.pi) * (180/np.pi) / 2    # Decoded orientation (retain the module of the complex number)\n",
    "\n",
    "r = np.mean(np.exp(1j * (theta - dat['phi_test']) * (np.pi/180)*2)) # correlation between decoded and presented orientation\n",
    "r = np.abs(r) * np.cos(np.angle(r))\n",
    "r"
   ]
  },
  {
   "cell_type": "markdown",
   "id": "36caf6e9",
   "metadata": {},
   "source": [
    "Getting mean orientation values for each stimulus bin"
   ]
  },
  {
   "cell_type": "code",
   "execution_count": 63,
   "id": "affe99e0",
   "metadata": {},
   "outputs": [],
   "source": [
    "mtheta = np.zeros(numC)\n",
    "for ic in range(numC):\n",
    "    mtheta[ic] = np.mod(np.angle(np.mean(np.exp(1j * theta[np.where(dat['X_test'] == (ic+1))[0]] * (np.pi/180)*2))), 2*np.pi) * (180/np.pi) / 2"
   ]
  },
  {
   "cell_type": "markdown",
   "id": "6af6cbcc",
   "metadata": {},
   "source": [
    "# Plotting results"
   ]
  },
  {
   "cell_type": "code",
   "execution_count": 64,
   "id": "fb52d74a",
   "metadata": {},
   "outputs": [
    {
     "data": {
      "text/plain": [
       "[Text(0.0, 0, '0.0'),\n",
       " Text(22.5, 0, '22.5'),\n",
       " Text(45.0, 0, '45.0'),\n",
       " Text(67.5, 0, '67.5'),\n",
       " Text(90.0, 0, '90.0'),\n",
       " Text(112.5, 0, '112.5'),\n",
       " Text(135.0, 0, '135.0'),\n",
       " Text(157.5, 0, '157.5')]"
      ]
     },
     "execution_count": 64,
     "metadata": {},
     "output_type": "execute_result"
    }
   ],
   "source": [
    "fig, ax = plt.subplots(1,3,figsize=(14,4))\n",
    "ax[0].plot(x_labels, m)\n",
    "ax[0].plot(x_labels, m)\n",
    "ax[0].set_xticks(x_labels)\n",
    "ax[0].set_xticklabels(x_labels.astype(str))\n",
    "ax[0].legend(x_labels, loc=3, prop={'size': 6})\n",
    "\n",
    "\n",
    "ax[1].plot(x_labels, Xhat_shiftedmean)\n",
    "ax[1].fill_between(x_labels, Xhat_shiftedmean-Xhat_shiftedsem, Xhat_shiftedmean+Xhat_shiftedsem)\n",
    "ax[1].scatter(x_labels, Xhat_shiftedmean, color = 'red')\n",
    "ax[1].set_xticks(x_labels)\n",
    "ax[1].set_xticklabels(x_centeredlabels.astype(str))\n",
    "\n",
    "\n",
    "ax[2].scatter(x_labels, mtheta, color = 'red')\n",
    "ax[2].scatter(dat['phi_test'], theta, s = 1)\n",
    "ax[2].set_xticks(x_labels)\n",
    "ax[2].set_xticklabels(x_labels.astype(str))\n"
   ]
  },
  {
   "cell_type": "markdown",
   "id": "0019c8d0",
   "metadata": {},
   "source": [
    "np.mean(np.exp(1j * (theta - dat['phi_test']) * (np.pi/180)*2))"
   ]
  },
  {
   "cell_type": "markdown",
   "id": "886caf90",
   "metadata": {},
   "source": [
    "__Preparing crossvalidation procedure__"
   ]
  },
  {
   "cell_type": "code",
   "execution_count": 299,
   "id": "1972d8ce",
   "metadata": {},
   "outputs": [
    {
     "data": {
      "text/plain": [
       "<module 'DecToolbox' from '/Users/alex/Library/CloudStorage/OneDrive-UniversitatdeBarcelona/Projects/Condcision/Group_level_analyses/Beh_analyses/EEG_condcision_CJ/DecToolbox.py'>"
      ]
     },
     "execution_count": 299,
     "metadata": {},
     "output_type": "execute_result"
    }
   ],
   "source": [
    "import DecToolbox as dt\n",
    "from importlib import reload  # Python 3.4+\n",
    "reload(dt)"
   ]
  },
  {
   "cell_type": "code",
   "execution_count": 139,
   "id": "03087be7",
   "metadata": {},
   "outputs": [],
   "source": [
    "G = binned_phi.copy() # binning/discritizing orientation dimension to assign a balanced number of stimuli to different dat\n",
    "CONDS = np.unique(G)\n",
    "nConds = CONDS.size\n",
    "nfold = 4\n",
    "FoldsIdx = dt.CreateFolds(G, Y, nfold)"
   ]
  },
  {
   "cell_type": "code",
   "execution_count": 170,
   "id": "1e34a463",
   "metadata": {},
   "outputs": [
    {
     "data": {
      "text/plain": [
       "<matplotlib.image.AxesImage at 0x7f81e1167650>"
      ]
     },
     "execution_count": 170,
     "metadata": {},
     "output_type": "execute_result"
    }
   ],
   "source": [
    "numC = 8 # how many channels to use\n",
    "\n",
    "cfg = dict()\n",
    "cfg['kappa'] = 4\n",
    "cfg['NumC'] = numC\n",
    "cfg['Tuning'] = 'vonmises'#'halfRectCos'\n",
    "cfg['offset'] = 0\n",
    "\n",
    "design, sortedesign = dt.stim_features(phi, cfg)\n",
    "\n",
    "fig, ax = plt.subplots(1, 1, figsize=(3, 3))\n",
    "plt.imshow(sortedesign,aspect='auto',interpolation = 'none')"
   ]
  },
  {
   "cell_type": "code",
   "execution_count": 178,
   "id": "ae41af47",
   "metadata": {},
   "outputs": [],
   "source": [
    "cfg = dict()\n",
    "cfg['cfgE'] = {'gamma': 0.01, 'demean' : True, 'returnPattern' : True}\n",
    "cfg['cfgD'] = {'demean' : 'traindata'}\n",
    "Xhat = CV_encoder(design, Y, sel_t, cfg, FoldsIdx)"
   ]
  },
  {
   "cell_type": "code",
   "execution_count": 179,
   "id": "dfe8b38b",
   "metadata": {},
   "outputs": [],
   "source": [
    "m = np.zeros((numC,numC))\n",
    "for ic in range(numC):\n",
    "   m[:,ic] =  np.mean( Xhat[:, G == (ic+1)], axis = 1)"
   ]
  },
  {
   "cell_type": "markdown",
   "id": "940fe71e",
   "metadata": {},
   "source": [
    "Re-alligning predictions for trials with identical orientation"
   ]
  },
  {
   "cell_type": "code",
   "execution_count": 180,
   "id": "4c254369",
   "metadata": {},
   "outputs": [],
   "source": [
    "Xhat_centered = 0*Xhat.copy()\n",
    "m_centered = np.zeros((numC,numC))\n",
    "for ic in range(numC): # here trials that match similar label orientation are shifted together x positions (np.roll)\n",
    "    Xhat_centered[:, G == (ic+1)] = np.roll(Xhat[:,G == (ic+1)], -ic, axis = 0)\n",
    "    m_centered[:,ic] =  np.mean( Xhat_centered[:,  G == (ic+1)], axis = 1)"
   ]
  },
  {
   "cell_type": "code",
   "execution_count": 181,
   "id": "b5a77198",
   "metadata": {},
   "outputs": [],
   "source": [
    "x_labels = np.array([  0. ,  22.5,  45. ,  67.5,  90. , 112.5, 135. , 157.5])\n",
    "Xhat_centeredmean = np.mean(Xhat_centered, axis = 1)\n",
    "Xhat_centeredsem = np.std(m_centered, axis = 1)/Xhat.shape[1]\n",
    "Xhat_shiftedmean = np.roll(Xhat_centeredmean, 3, axis = 0)\n",
    "Xhat_shiftedsem = np.roll(Xhat_centeredsem, 3, axis = 0)\n",
    "x_centeredlabels = np.roll(x_labels,  3, axis = 0)"
   ]
  },
  {
   "cell_type": "code",
   "execution_count": 182,
   "id": "3011b964",
   "metadata": {},
   "outputs": [
    {
     "data": {
      "text/plain": [
       "0.01732998930538348"
      ]
     },
     "execution_count": 182,
     "metadata": {},
     "output_type": "execute_result"
    }
   ],
   "source": [
    "# Kernel to back project channel outputs to orientation space\n",
    "kernel = np.exp(1j * (np.linspace(0, numC-1,numC)*(2*np.pi/numC)))\n",
    "Z = kernel @ Xhat\n",
    "\n",
    "theta = np.mod(np.angle(Z), 2*np.pi) * (180/np.pi) / 2    # Decoded orientation (retain the module of the complex number)\n",
    "\n",
    "r = np.mean(np.exp(1j * (theta - phi) * (np.pi/180)*2)) # correlation between decoded and presented orientation\n",
    "r = np.abs(r) * np.cos(np.angle(r))\n",
    "r"
   ]
  },
  {
   "cell_type": "markdown",
   "id": "36caf6e9",
   "metadata": {},
   "source": [
    "Getting mean orientation values for each stimulus bin"
   ]
  },
  {
   "cell_type": "code",
   "execution_count": 183,
   "id": "affe99e0",
   "metadata": {},
   "outputs": [],
   "source": [
    "mtheta = np.zeros(numC)\n",
    "for ic in range(numC):\n",
    "    mtheta[ic] = np.mod(np.angle(np.mean(np.exp(1j * theta[G == (ic+1)] * (np.pi/180)*2))), 2*np.pi) * (180/np.pi) / 2"
   ]
  },
  {
   "cell_type": "markdown",
   "id": "6af6cbcc",
   "metadata": {},
   "source": [
    "# Plotting results"
   ]
  },
  {
   "cell_type": "code",
   "execution_count": 268,
   "id": "fb52d74a",
   "metadata": {},
   "outputs": [
    {
     "ename": "ValueError",
     "evalue": "x and y can be no greater than 2D, but have shapes (8,) and (8, 8, 211, 211)",
     "output_type": "error",
     "traceback": [
      "\u001b[0;31m---------------------------------------------------------------------------\u001b[0m",
      "\u001b[0;31mValueError\u001b[0m                                Traceback (most recent call last)",
      "\u001b[0;32m/var/folders/4m/3h_3fwxd7v33qzl6mfvbj3tr0000gn/T/ipykernel_15157/2775080379.py\u001b[0m in \u001b[0;36m<module>\u001b[0;34m\u001b[0m\n\u001b[1;32m      1\u001b[0m \u001b[0mfig\u001b[0m\u001b[0;34m,\u001b[0m \u001b[0max\u001b[0m \u001b[0;34m=\u001b[0m \u001b[0mplt\u001b[0m\u001b[0;34m.\u001b[0m\u001b[0msubplots\u001b[0m\u001b[0;34m(\u001b[0m\u001b[0;36m1\u001b[0m\u001b[0;34m,\u001b[0m\u001b[0;36m3\u001b[0m\u001b[0;34m,\u001b[0m\u001b[0mfigsize\u001b[0m\u001b[0;34m=\u001b[0m\u001b[0;34m(\u001b[0m\u001b[0;36m14\u001b[0m\u001b[0;34m,\u001b[0m\u001b[0;36m4\u001b[0m\u001b[0;34m)\u001b[0m\u001b[0;34m)\u001b[0m\u001b[0;34m\u001b[0m\u001b[0;34m\u001b[0m\u001b[0m\n\u001b[0;32m----> 2\u001b[0;31m \u001b[0max\u001b[0m\u001b[0;34m[\u001b[0m\u001b[0;36m0\u001b[0m\u001b[0;34m]\u001b[0m\u001b[0;34m.\u001b[0m\u001b[0mplot\u001b[0m\u001b[0;34m(\u001b[0m\u001b[0mx_labels\u001b[0m\u001b[0;34m,\u001b[0m \u001b[0mm\u001b[0m\u001b[0;34m)\u001b[0m\u001b[0;34m\u001b[0m\u001b[0;34m\u001b[0m\u001b[0m\n\u001b[0m\u001b[1;32m      3\u001b[0m \u001b[0max\u001b[0m\u001b[0;34m[\u001b[0m\u001b[0;36m0\u001b[0m\u001b[0;34m]\u001b[0m\u001b[0;34m.\u001b[0m\u001b[0mplot\u001b[0m\u001b[0;34m(\u001b[0m\u001b[0mx_labels\u001b[0m\u001b[0;34m,\u001b[0m \u001b[0mm\u001b[0m\u001b[0;34m)\u001b[0m\u001b[0;34m\u001b[0m\u001b[0;34m\u001b[0m\u001b[0m\n\u001b[1;32m      4\u001b[0m \u001b[0max\u001b[0m\u001b[0;34m[\u001b[0m\u001b[0;36m0\u001b[0m\u001b[0;34m]\u001b[0m\u001b[0;34m.\u001b[0m\u001b[0mset_xticks\u001b[0m\u001b[0;34m(\u001b[0m\u001b[0mx_labels\u001b[0m\u001b[0;34m)\u001b[0m\u001b[0;34m\u001b[0m\u001b[0;34m\u001b[0m\u001b[0m\n\u001b[1;32m      5\u001b[0m \u001b[0max\u001b[0m\u001b[0;34m[\u001b[0m\u001b[0;36m0\u001b[0m\u001b[0;34m]\u001b[0m\u001b[0;34m.\u001b[0m\u001b[0mset_xticklabels\u001b[0m\u001b[0;34m(\u001b[0m\u001b[0mx_labels\u001b[0m\u001b[0;34m.\u001b[0m\u001b[0mastype\u001b[0m\u001b[0;34m(\u001b[0m\u001b[0mstr\u001b[0m\u001b[0;34m)\u001b[0m\u001b[0;34m)\u001b[0m\u001b[0;34m\u001b[0m\u001b[0;34m\u001b[0m\u001b[0m\n",
      "\u001b[0;32m~/opt/anaconda3/envs/mne/lib/python3.7/site-packages/matplotlib/axes/_axes.py\u001b[0m in \u001b[0;36mplot\u001b[0;34m(self, scalex, scaley, data, *args, **kwargs)\u001b[0m\n\u001b[1;32m   1630\u001b[0m         \"\"\"\n\u001b[1;32m   1631\u001b[0m         \u001b[0mkwargs\u001b[0m \u001b[0;34m=\u001b[0m \u001b[0mcbook\u001b[0m\u001b[0;34m.\u001b[0m\u001b[0mnormalize_kwargs\u001b[0m\u001b[0;34m(\u001b[0m\u001b[0mkwargs\u001b[0m\u001b[0;34m,\u001b[0m \u001b[0mmlines\u001b[0m\u001b[0;34m.\u001b[0m\u001b[0mLine2D\u001b[0m\u001b[0;34m)\u001b[0m\u001b[0;34m\u001b[0m\u001b[0;34m\u001b[0m\u001b[0m\n\u001b[0;32m-> 1632\u001b[0;31m         \u001b[0mlines\u001b[0m \u001b[0;34m=\u001b[0m \u001b[0;34m[\u001b[0m\u001b[0;34m*\u001b[0m\u001b[0mself\u001b[0m\u001b[0;34m.\u001b[0m\u001b[0m_get_lines\u001b[0m\u001b[0;34m(\u001b[0m\u001b[0;34m*\u001b[0m\u001b[0margs\u001b[0m\u001b[0;34m,\u001b[0m \u001b[0mdata\u001b[0m\u001b[0;34m=\u001b[0m\u001b[0mdata\u001b[0m\u001b[0;34m,\u001b[0m \u001b[0;34m**\u001b[0m\u001b[0mkwargs\u001b[0m\u001b[0;34m)\u001b[0m\u001b[0;34m]\u001b[0m\u001b[0;34m\u001b[0m\u001b[0;34m\u001b[0m\u001b[0m\n\u001b[0m\u001b[1;32m   1633\u001b[0m         \u001b[0;32mfor\u001b[0m \u001b[0mline\u001b[0m \u001b[0;32min\u001b[0m \u001b[0mlines\u001b[0m\u001b[0;34m:\u001b[0m\u001b[0;34m\u001b[0m\u001b[0;34m\u001b[0m\u001b[0m\n\u001b[1;32m   1634\u001b[0m             \u001b[0mself\u001b[0m\u001b[0;34m.\u001b[0m\u001b[0madd_line\u001b[0m\u001b[0;34m(\u001b[0m\u001b[0mline\u001b[0m\u001b[0;34m)\u001b[0m\u001b[0;34m\u001b[0m\u001b[0;34m\u001b[0m\u001b[0m\n",
      "\u001b[0;32m~/opt/anaconda3/envs/mne/lib/python3.7/site-packages/matplotlib/axes/_base.py\u001b[0m in \u001b[0;36m__call__\u001b[0;34m(self, data, *args, **kwargs)\u001b[0m\n\u001b[1;32m    310\u001b[0m                 \u001b[0mthis\u001b[0m \u001b[0;34m+=\u001b[0m \u001b[0margs\u001b[0m\u001b[0;34m[\u001b[0m\u001b[0;36m0\u001b[0m\u001b[0;34m]\u001b[0m\u001b[0;34m,\u001b[0m\u001b[0;34m\u001b[0m\u001b[0;34m\u001b[0m\u001b[0m\n\u001b[1;32m    311\u001b[0m                 \u001b[0margs\u001b[0m \u001b[0;34m=\u001b[0m \u001b[0margs\u001b[0m\u001b[0;34m[\u001b[0m\u001b[0;36m1\u001b[0m\u001b[0;34m:\u001b[0m\u001b[0;34m]\u001b[0m\u001b[0;34m\u001b[0m\u001b[0;34m\u001b[0m\u001b[0m\n\u001b[0;32m--> 312\u001b[0;31m             \u001b[0;32myield\u001b[0m \u001b[0;32mfrom\u001b[0m \u001b[0mself\u001b[0m\u001b[0;34m.\u001b[0m\u001b[0m_plot_args\u001b[0m\u001b[0;34m(\u001b[0m\u001b[0mthis\u001b[0m\u001b[0;34m,\u001b[0m \u001b[0mkwargs\u001b[0m\u001b[0;34m)\u001b[0m\u001b[0;34m\u001b[0m\u001b[0;34m\u001b[0m\u001b[0m\n\u001b[0m\u001b[1;32m    313\u001b[0m \u001b[0;34m\u001b[0m\u001b[0m\n\u001b[1;32m    314\u001b[0m     \u001b[0;32mdef\u001b[0m \u001b[0mget_next_color\u001b[0m\u001b[0;34m(\u001b[0m\u001b[0mself\u001b[0m\u001b[0;34m)\u001b[0m\u001b[0;34m:\u001b[0m\u001b[0;34m\u001b[0m\u001b[0;34m\u001b[0m\u001b[0m\n",
      "\u001b[0;32m~/opt/anaconda3/envs/mne/lib/python3.7/site-packages/matplotlib/axes/_base.py\u001b[0m in \u001b[0;36m_plot_args\u001b[0;34m(self, tup, kwargs, return_kwargs)\u001b[0m\n\u001b[1;32m    499\u001b[0m                              f\"have shapes {x.shape} and {y.shape}\")\n\u001b[1;32m    500\u001b[0m         \u001b[0;32mif\u001b[0m \u001b[0mx\u001b[0m\u001b[0;34m.\u001b[0m\u001b[0mndim\u001b[0m \u001b[0;34m>\u001b[0m \u001b[0;36m2\u001b[0m \u001b[0;32mor\u001b[0m \u001b[0my\u001b[0m\u001b[0;34m.\u001b[0m\u001b[0mndim\u001b[0m \u001b[0;34m>\u001b[0m \u001b[0;36m2\u001b[0m\u001b[0;34m:\u001b[0m\u001b[0;34m\u001b[0m\u001b[0;34m\u001b[0m\u001b[0m\n\u001b[0;32m--> 501\u001b[0;31m             raise ValueError(f\"x and y can be no greater than 2D, but have \"\n\u001b[0m\u001b[1;32m    502\u001b[0m                              f\"shapes {x.shape} and {y.shape}\")\n\u001b[1;32m    503\u001b[0m         \u001b[0;32mif\u001b[0m \u001b[0mx\u001b[0m\u001b[0;34m.\u001b[0m\u001b[0mndim\u001b[0m \u001b[0;34m==\u001b[0m \u001b[0;36m1\u001b[0m\u001b[0;34m:\u001b[0m\u001b[0;34m\u001b[0m\u001b[0;34m\u001b[0m\u001b[0m\n",
      "\u001b[0;31mValueError\u001b[0m: x and y can be no greater than 2D, but have shapes (8,) and (8, 8, 211, 211)"
     ]
    }
   ],
   "source": [
    "fig, ax = plt.subplots(1,3,figsize=(14,4))\n",
    "ax[0].plot(x_labels, m)\n",
    "ax[0].plot(x_labels, m)\n",
    "ax[0].set_xticks(x_labels)\n",
    "ax[0].set_xticklabels(x_labels.astype(str))\n",
    "ax[0].legend(x_labels, loc=3, prop={'size': 6})\n",
    "\n",
    "\n",
    "ax[1].plot(x_labels, Xhat_shiftedmean)\n",
    "ax[1].fill_between(x_labels, Xhat_shiftedmean-Xhat_shiftedsem, Xhat_shiftedmean+Xhat_shiftedsem)\n",
    "ax[1].scatter(x_labels, Xhat_shiftedmean, color = 'red')\n",
    "ax[1].set_xticks(x_labels)\n",
    "ax[1].set_xticklabels(x_centeredlabels.astype(str))\n",
    "\n",
    "\n",
    "ax[2].scatter(x_labels, mtheta, color = 'red')\n",
    "ax[2].scatter(phi, theta, s = 1)\n",
    "ax[2].set_xticks(x_labels)\n",
    "ax[2].set_xticklabels(x_labels.astype(str))\n"
   ]
  },
  {
   "cell_type": "markdown",
   "id": "4517ddc7",
   "metadata": {},
   "source": [
    "__Temporal dimension decoding__"
   ]
  },
  {
   "cell_type": "code",
   "execution_count": 195,
   "id": "3078ef3d",
   "metadata": {},
   "outputs": [],
   "source": [
    "numT = Y.shape[1]\n",
    "Xhat = np.zeros([numC,numN, numT])\n",
    "for it in range(numT):\n",
    "    cfg = dict()\n",
    "    cfg['cfgE'] = {'gamma': 0.01, 'demean' : True, 'returnPattern' : True}\n",
    "    cfg['cfgD'] = {'demean' : 'traindata'}\n",
    "    Xhat[:,:,it] = CV_encoder(design, Y, it, cfg, FoldsIdx)\n",
    "    \n",
    "    "
   ]
  },
  {
   "cell_type": "code",
   "execution_count": 196,
   "id": "dfe8b38b",
   "metadata": {},
   "outputs": [],
   "source": [
    "m = np.zeros((numC,numC, numT))\n",
    "for ic in range(numC):\n",
    "   m[:,ic] =  np.mean( Xhat[:, G == (ic+1),:], axis = 1)"
   ]
  },
  {
   "cell_type": "markdown",
   "id": "940fe71e",
   "metadata": {},
   "source": [
    "Re-alligning predictions for trials with identical orientation"
   ]
  },
  {
   "cell_type": "code",
   "execution_count": 198,
   "id": "4c254369",
   "metadata": {},
   "outputs": [],
   "source": [
    "Xhat_centered = 0*Xhat.copy()\n",
    "m_centered = np.zeros((numC,numC, numT))\n",
    "for ic in range(numC): # here trials that match similar label orientation are shifted together x positions (np.roll)\n",
    "    Xhat_centered[:, G == (ic+1),:] = np.roll(Xhat[:,G == (ic+1),:], -ic, axis = 0)\n",
    "    m_centered[:,ic, : ] =  np.mean( Xhat_centered[:,  G == (ic+1), :], axis = 1)"
   ]
  },
  {
   "cell_type": "code",
   "execution_count": 230,
   "id": "b5a77198",
   "metadata": {},
   "outputs": [],
   "source": [
    "x_labels = np.array([  0. ,  22.5,  45. ,  67.5,  90. , 112.5, 135. , 157.5])\n",
    "Xhat_centeredmean = np.mean(Xhat_centered, axis = 1)\n",
    "Xhat_centeredsem = np.std(m_centered, axis = 1)/Xhat.shape[1]\n",
    "Xhat_shiftedmean = np.roll(Xhat_centeredmean, 3, axis = 0)\n",
    "Xhat_shiftedsem = np.roll(Xhat_centeredsem, 3, axis = 0)\n",
    "x_centeredlabels = np.roll(x_labels,  3, axis = 0)"
   ]
  },
  {
   "cell_type": "code",
   "execution_count": 237,
   "id": "61b0e13a",
   "metadata": {},
   "outputs": [
    {
     "ename": "AttributeError",
     "evalue": "'AxesSubplot' object has no attribute 'set_xtickslabels'",
     "output_type": "error",
     "traceback": [
      "\u001b[0;31m---------------------------------------------------------------------------\u001b[0m",
      "\u001b[0;31mAttributeError\u001b[0m                            Traceback (most recent call last)",
      "\u001b[0;32m/var/folders/4m/3h_3fwxd7v33qzl6mfvbj3tr0000gn/T/ipykernel_15157/1288958923.py\u001b[0m in \u001b[0;36m<module>\u001b[0;34m\u001b[0m\n\u001b[1;32m      2\u001b[0m \u001b[0mplt\u001b[0m\u001b[0;34m.\u001b[0m\u001b[0mimshow\u001b[0m\u001b[0;34m(\u001b[0m\u001b[0mXhat_shiftedmean\u001b[0m\u001b[0;34m,\u001b[0m\u001b[0maspect\u001b[0m\u001b[0;34m=\u001b[0m\u001b[0;34m'auto'\u001b[0m\u001b[0;34m,\u001b[0m\u001b[0mvmin\u001b[0m \u001b[0;34m=\u001b[0m \u001b[0;34m-\u001b[0m\u001b[0;36m1e-28\u001b[0m\u001b[0;34m,\u001b[0m \u001b[0mvmax\u001b[0m \u001b[0;34m=\u001b[0m \u001b[0;36m1e-28\u001b[0m\u001b[0;34m,\u001b[0m \u001b[0minterpolation\u001b[0m \u001b[0;34m=\u001b[0m \u001b[0;34m'gaussian'\u001b[0m\u001b[0;34m,\u001b[0m\u001b[0mextent\u001b[0m\u001b[0;34m=\u001b[0m\u001b[0;34m[\u001b[0m\u001b[0mtime\u001b[0m\u001b[0;34m[\u001b[0m\u001b[0;36m0\u001b[0m\u001b[0;34m]\u001b[0m\u001b[0;34m,\u001b[0m\u001b[0mtime\u001b[0m\u001b[0;34m[\u001b[0m\u001b[0;34m-\u001b[0m\u001b[0;36m1\u001b[0m\u001b[0;34m]\u001b[0m\u001b[0;34m,\u001b[0m\u001b[0mx_centeredlabels\u001b[0m\u001b[0;34m[\u001b[0m\u001b[0;36m0\u001b[0m\u001b[0;34m]\u001b[0m\u001b[0;34m,\u001b[0m \u001b[0mx_centeredlabels\u001b[0m\u001b[0;34m[\u001b[0m\u001b[0;34m-\u001b[0m\u001b[0;36m1\u001b[0m\u001b[0;34m]\u001b[0m\u001b[0;34m]\u001b[0m\u001b[0;34m)\u001b[0m\u001b[0;34m\u001b[0m\u001b[0;34m\u001b[0m\u001b[0m\n\u001b[1;32m      3\u001b[0m \u001b[0mplt\u001b[0m\u001b[0;34m.\u001b[0m\u001b[0mcolorbar\u001b[0m\u001b[0;34m(\u001b[0m\u001b[0;34m)\u001b[0m\u001b[0;34m\u001b[0m\u001b[0;34m\u001b[0m\u001b[0m\n\u001b[0;32m----> 4\u001b[0;31m \u001b[0max\u001b[0m\u001b[0;34m.\u001b[0m\u001b[0mset_xtickslabels\u001b[0m\u001b[0;34m(\u001b[0m\u001b[0mtime\u001b[0m\u001b[0;34m)\u001b[0m\u001b[0;34m\u001b[0m\u001b[0;34m\u001b[0m\u001b[0m\n\u001b[0m\u001b[1;32m      5\u001b[0m \u001b[0max\u001b[0m\u001b[0;34m.\u001b[0m\u001b[0mset_Yticklabels\u001b[0m\u001b[0;34m(\u001b[0m\u001b[0mx_centeredlabels\u001b[0m\u001b[0;34m.\u001b[0m\u001b[0mastype\u001b[0m\u001b[0;34m(\u001b[0m\u001b[0mstr\u001b[0m\u001b[0;34m)\u001b[0m\u001b[0;34m)\u001b[0m\u001b[0;34m\u001b[0m\u001b[0;34m\u001b[0m\u001b[0m\n",
      "\u001b[0;31mAttributeError\u001b[0m: 'AxesSubplot' object has no attribute 'set_xtickslabels'"
     ]
    }
   ],
   "source": [
    "fig, ax = plt.subplots(1, 1, figsize=(6, 3))\n",
    "plt.imshow(Xhat_shiftedmean,aspect='auto',vmin = -1e-28, vmax = 1e-28, interpolation = 'gaussian',extent=[time[0],time[-1],x_centeredlabels[0], x_centeredlabels[-1]])\n",
    "plt.colorbar()\n",
    "ax.set_xtickslabels(time)\n",
    "ax.set_Yticklabels(x_centeredlabels.astype(str))\n"
   ]
  },
  {
   "cell_type": "markdown",
   "id": "4517ddc7",
   "metadata": {},
   "source": [
    "__Crossmodal temporal generalization decoding__"
   ]
  },
  {
   "cell_type": "code",
   "execution_count": 300,
   "id": "3078ef3d",
   "metadata": {},
   "outputs": [],
   "source": [
    "numT = Y.shape[1]\n",
    "Xhat = np.zeros([numC,numN, numT, numT])\n",
    "for it in range(numT):\n",
    "    cfg = dict()\n",
    "    cfg['cfgE'] = {'gamma': 0.01, 'demean' : True, 'returnPattern' : True}\n",
    "    cfg['cfgD'] = {'demean' : 'traindata'}\n",
    "    Xhat[:,:,it, :] = dt.CV_TG_encoder(design, Y, it, cfg, FoldsIdx)"
   ]
  },
  {
   "cell_type": "code",
   "execution_count": 246,
   "id": "dfe8b38b",
   "metadata": {},
   "outputs": [],
   "source": [
    "m = np.zeros((numC,numC, numT, numT))\n",
    "for ic in range(numC):\n",
    "   m[:,ic, :, :] =  np.mean( Xhat[:, G == (ic+1),:,:], axis = 1)"
   ]
  },
  {
   "cell_type": "markdown",
   "id": "940fe71e",
   "metadata": {},
   "source": [
    "Re-alligning predictions for trials with identical orientation"
   ]
  },
  {
   "cell_type": "code",
   "execution_count": 247,
   "id": "4c254369",
   "metadata": {},
   "outputs": [],
   "source": [
    "Xhat_centered = 0*Xhat.copy()\n",
    "m_centered = np.zeros((numC,numC, numT, numT))\n",
    "for ic in range(numC): # here trials that match similar label orientation are shifted together x positions (np.roll)\n",
    "    Xhat_centered[:, G == (ic+1),:, :] = np.roll(Xhat[:,G == (ic+1),:, :], -ic, axis = 0)\n",
    "    m_centered[:,ic, : , : ] =  np.mean( Xhat_centered[:,  G == (ic+1), :, :], axis = 1)"
   ]
  },
  {
   "cell_type": "markdown",
   "id": "4a5a10c9",
   "metadata": {},
   "source": [
    "Plotting diagonal values"
   ]
  },
  {
   "cell_type": "code",
   "execution_count": 267,
   "id": "68d9e0f9",
   "metadata": {},
   "outputs": [
    {
     "data": {
      "text/plain": [
       "<matplotlib.colorbar.Colorbar at 0x7f8200bfc750>"
      ]
     },
     "execution_count": 267,
     "metadata": {},
     "output_type": "execute_result"
    },
    {
     "name": "stderr",
     "output_type": "stream",
     "text": [
      "qt.qpa.backingstore: Back buffer dpr of 1 doesn't match <_NSViewBackingLayer: 0x7f81ae698a50> contents scale of 2 - updating layer to match.\n",
      "qt.qpa.backingstore: Back buffer dpr of 1 doesn't match <_NSViewBackingLayer: 0x7f81ae7abf30> contents scale of 2 - updating layer to match.\n",
      "qt.qpa.backingstore: Back buffer dpr of 1 doesn't match <_NSViewBackingLayer: 0x7f81aedaaef0> contents scale of 2 - updating layer to match.\n",
      "qt.qpa.backingstore: Back buffer dpr of 1 doesn't match <_NSViewBackingLayer: 0x7f81c9df42c0> contents scale of 2 - updating layer to match.\n",
      "qt.qpa.backingstore: Back buffer dpr of 2 doesn't match <_NSViewBackingLayer: 0x7f81ae698a50> contents scale of 1 - updating layer to match.\n"
     ]
    }
   ],
   "source": [
    "diagonal_vals =  m_centered[:,:,range(numT),range(numT)]\n",
    "fig, ax = plt.subplots(1, 1, figsize=(6, 3))\n",
    "plt.imshow(np.mean(diagonal_vals, axis = 1),aspect='auto',vmin = -1e-28, vmax = 1e-28, interpolation = 'gaussian',extent=[time[0],time[-1],x_centeredlabels[0], x_centeredlabels[-1]])\n",
    "plt.colorbar()"
   ]
  },
  {
   "cell_type": "markdown",
   "id": "8c692482",
   "metadata": {},
   "source": [
    "Correlation between actual and predicted orientation values"
   ]
  },
  {
   "cell_type": "code",
   "execution_count": 292,
   "id": "3011b964",
   "metadata": {},
   "outputs": [],
   "source": [
    "r = np.zeros((numT, numT))\n",
    "\n",
    "for it1 in range(numT):\n",
    "    for it2 in range(numT):\n",
    "        # Kernel to back project channel outputs to orientation space\n",
    "        kernel = np.exp(1j * (np.linspace(0, numC-1,numC)*(2*np.pi/numC)))\n",
    "        Z = kernel @ Xhat[:,:, it1, it2]\n",
    "\n",
    "        theta = np.mod(np.angle(Z), 2*np.pi) * (180/np.pi) / 2    # Decoded orientation (retain the module of the complex number)\n",
    "\n",
    "        rs = np.mean(np.exp(1j * (theta - phi) * (np.pi/180)*2)) # correlation between decoded and presented orientation\n",
    "        r[it1, it2] = np.abs(rs) * np.cos(np.angle(rs))\n",
    "        r"
   ]
  },
  {
   "cell_type": "code",
   "execution_count": 293,
   "id": "c1569cf7",
   "metadata": {},
   "outputs": [
    {
     "data": {
      "text/plain": [
       "<matplotlib.colorbar.Colorbar at 0x7f81e1bfcfd0>"
      ]
     },
     "execution_count": 293,
     "metadata": {},
     "output_type": "execute_result"
    }
   ],
   "source": [
    "fig, ax = plt.subplots(1, 1, figsize=(4, 4))\n",
    "plt.imshow(r, aspect= 1, interpolation = 'gaussian', vmin = -0.25, vmax = 0.25, origin = 'lower',extent=[time[0],time[-1],time[0],time[-1]])\n",
    "plt.colorbar()"
   ]
  },
  {
   "cell_type": "code",
   "execution_count": null,
   "id": "04d75a11",
   "metadata": {},
   "outputs": [],
   "source": []
  },
  {
   "cell_type": "code",
   "execution_count": 241,
   "id": "d3336722",
   "metadata": {},
   "outputs": [],
   "source": [
    "def CV_TG_encoder(design, Y, sel_t, cfg, FoldsIdx):\n",
    "\n",
    "    numC = design.shape[0]\n",
    "    numT = Y.shape[1]\n",
    "    numN = Y.shape[2]\n",
    "\n",
    "    # decode numT X numT\n",
    "    Xhat = np.zeros([numC,numN, numT])\n",
    "    Xhat_centered = 0*Xhat.copy()\n",
    "\n",
    "    nfold = np.size(FoldsIdx)\n",
    "\n",
    "    for ifold in range(nfold):\n",
    "        # Training encoder\n",
    "        dat = dict()\n",
    "        dat['Y_train'] = np.squeeze(Y[:,sel_t, FoldsIdx[ifold]['train_index']])\n",
    "        idesign = design[:,FoldsIdx[ifold]['train_index']]\n",
    "        dat['Y_test'] = np.squeeze(Y[:,sel_t, FoldsIdx[ifold]['test_index']])\n",
    "\n",
    "        if 'cfgE' not in cfg:\n",
    "            cfgE = {'gamma': 0.01, 'demean' : True, 'returnPattern' : True}\n",
    "        else:\n",
    "            cfgE = cfg['cfgE']\n",
    "\n",
    "        decoder = dt.train_encoder(idesign, dat['Y_train'], cfgE)\n",
    "\n",
    "        if 'cfgD' not in cfg:\n",
    "            cfgD = {'demean' : 'traindata'}\n",
    "        else:\n",
    "            cfgD = cfg['cfgD']\n",
    "        # Testing encoding model on all the time points of test data\n",
    "        for it in range(numT):\n",
    "            dat['Y_test'] = np.squeeze(Y[:,it, FoldsIdx[ifold]['test_index']])\n",
    "            Xhat[:,FoldsIdx[ifold]['test_index'],it] = dt.test_encoder( decoder, dat['Y_test'], cfgD) \n",
    "    \n",
    "    return Xhat"
   ]
  },
  {
   "cell_type": "code",
   "execution_count": 169,
   "id": "d3336722",
   "metadata": {},
   "outputs": [],
   "source": [
    "def CV_encoder(design, Y, sel_t, cfg, FoldsIdx):\n",
    "\n",
    "    numC = design.shape[0]\n",
    "    numN = Y.shape[2]\n",
    "\n",
    "    Xhat = np.zeros([numC,numN])\n",
    "    Xhat_centered = 0*Xhat.copy()\n",
    "\n",
    "    nfold = np.size(FoldsIdx)\n",
    "\n",
    "    for ifold in range(nfold):\n",
    "        # Output matrix\n",
    "        dat = dict()\n",
    "        dat['Y_train'] = np.squeeze(Y[:,sel_t, FoldsIdx[ifold]['train_index']])\n",
    "        idesign = design[:,FoldsIdx[ifold]['train_index']]\n",
    "        dat['Y_test'] = np.squeeze(Y[:,sel_t, FoldsIdx[ifold]['test_index']])\n",
    "\n",
    "        if 'cfgE' not in cfg:\n",
    "            cfgE = {'gamma': 0.01, 'demean' : True, 'returnPattern' : True}\n",
    "        else:\n",
    "            cfgE = cfg['cfgE']\n",
    "\n",
    "        decoder = dt.train_encoder(idesign, dat['Y_train'], cfgE)\n",
    "\n",
    "        if 'cfgD' not in cfg:\n",
    "            cfgD = {'demean' : 'traindata'}\n",
    "        else:\n",
    "            cfgD = cfg['cfgD']\n",
    "\n",
    "\n",
    "        Xhat[:,FoldsIdx[ifold]['test_index']] = dt.test_encoder( decoder, dat['Y_test'], cfgD) \n",
    "    \n",
    "    return Xhat"
   ]
  },
  {
   "cell_type": "markdown",
   "id": "36caf6e9",
   "metadata": {},
   "source": [
    "Getting mean orientation values for each stimulus bin"
   ]
  },
  {
   "cell_type": "markdown",
   "id": "6af6cbcc",
   "metadata": {},
   "source": [
    "# Plotting results"
   ]
  },
  {
   "cell_type": "code",
   "execution_count": null,
   "id": "d0e4dddc",
   "metadata": {},
   "outputs": [],
   "source": [
    "# Creating dat containing test and train indexes\n",
    "nfold = 2\n",
    "\n",
    "from sklearn.model_selection import StratifiedKFold\n",
    "skf = StratifiedKFold(n_splits=nfold,shuffle=False)\n",
    "CrossValIdx = [None] * nfold\n",
    "i = 0\n",
    "for train_index, test_index  in  skf.split(X = np.zeros(numN), y = X):\n",
    "    #print(\"TRAIN:\", train_index, \"TEST:\", test_index)\n",
    "    X_train, X_test = X[train_index], X[test_index]\n",
    "    CrossValIdx[i] = { 'train_index': train_index, 'test_index': test_index}\n",
    "    i += 1\n",
    "\n",
    " X_train = G[ CrossValIdx[0]['train_index']][:,np.newaxis]\n",
    " Y_train = np.squeeze(Y[:,sel_t, CrossValIdx[0]['train_index']]).shape\n",
    " phi_train = phi[ CrossValIdx[0]['train_index']][:,np.newaxis]\n",
    "\n",
    " X_test = G[ CrossValIdx[0]['test_index']][:,np.newaxis]\n",
    " Y_test = np.squeeze(Y[:,sel_t, CrossValIdx[0]['test_index']]).shape\n",
    " phi_test = phi[ CrossValIdx[0]['test_index']][:,np.newaxis]"
   ]
  },
  {
   "cell_type": "code",
   "execution_count": null,
   "id": "72461ca7",
   "metadata": {},
   "outputs": [],
   "source": [
    "\n",
    " X_train = G[ CrossValIdx[0]['train_index']][:,np.newaxis]\n",
    " Y_train = np.squeeze(Y[:,sel_t, CrossValIdx[0]['train_index']]).shape\n",
    " phi_train = phi[ CrossValIdx[0]['train_index']][:,np.newaxis]\n",
    "\n",
    " X_test = G[ CrossValIdx[0]['test_index']][:,np.newaxis]\n",
    " Y_test = np.squeeze(Y[:,sel_t, CrossValIdx[0]['test_index']]).shape\n",
    " phi_test = phi[ CrossValIdx[0]['test_index']][:,np.newaxis]"
   ]
  },
  {
   "cell_type": "code",
   "execution_count": 225,
   "id": "593fc5a5",
   "metadata": {},
   "outputs": [
    {
     "data": {
      "text/plain": [
       "array([ 1,  1,  1,  1,  1,  1,  1,  1,  1,  1,  1,  1,  1,  1,  1,  1,  1,\n",
       "        1,  1,  1,  1,  1,  1,  1,  1,  1,  1,  1,  1,  1,  1,  1,  1,  1,\n",
       "        1,  1,  1,  1,  1,  1,  1,  1,  1,  1,  1,  1,  1,  2,  2,  2,  2,\n",
       "        2,  2,  2,  2,  2,  2,  2,  2,  2,  2,  2,  2,  2,  2,  2,  2,  2,\n",
       "        2,  2,  2,  2,  2,  2,  2,  2,  2,  2,  2,  2,  2,  2,  2,  2,  2,\n",
       "        2,  2,  2,  2,  2,  2,  2,  2,  2,  3,  3,  3,  3,  3,  3,  3,  3,\n",
       "        3,  3,  3,  3,  3,  3,  3,  3,  3,  3,  3,  3,  3,  3,  3,  3,  3,\n",
       "        3,  3,  3,  3,  3,  3,  3,  3,  3,  3,  3,  3,  3,  3,  3,  3,  3,\n",
       "        3,  3,  3,  3,  3,  5,  5,  5,  5,  5,  5,  5,  5,  5,  5,  5,  5,\n",
       "        5,  5,  5,  5,  5,  5,  5,  5,  5,  5,  5,  5,  5,  5,  5,  5,  5,\n",
       "        5,  5,  5,  5,  5,  5,  5,  5,  5,  5,  5,  5,  5,  5,  5,  5,  5,\n",
       "        5,  6,  6,  6,  6,  6,  6,  6,  6,  6,  6,  6,  6,  6,  6,  6,  6,\n",
       "        6,  6,  6,  6,  6,  6,  6,  6,  6,  6,  6,  6,  6,  6,  6,  6,  6,\n",
       "        6,  6,  6,  6,  6,  6,  6,  6,  6,  6,  6,  6,  6,  6,  6,  8,  8,\n",
       "        8,  8,  8,  8,  8,  8,  8,  8,  8,  8,  8,  8,  8,  8,  8,  8,  8,\n",
       "        8,  8,  8,  8,  8,  8,  8,  8,  8,  8,  8,  8,  8,  8,  8,  8,  8,\n",
       "        8,  8,  8,  8,  8,  8,  8,  8,  8,  8,  8,  9,  9,  9,  9,  9,  9,\n",
       "        9,  9,  9,  9,  9,  9,  9,  9,  9,  9,  9,  9,  9,  9,  9,  9,  9,\n",
       "        9,  9,  9,  9,  9,  9,  9,  9,  9,  9,  9,  9,  9,  9,  9,  9,  9,\n",
       "        9,  9,  9,  9,  9,  9,  9,  9, 11, 11, 11, 11, 11, 11, 11, 11, 11,\n",
       "       11, 11, 11, 11, 11, 11, 11, 11, 11, 11, 11, 11, 11, 11, 11, 11, 11,\n",
       "       11, 11, 11, 11, 11, 11, 11, 11, 11, 11, 11, 11, 11, 11, 11, 11, 11,\n",
       "       11, 11, 11, 11])"
      ]
     },
     "execution_count": 225,
     "metadata": {},
     "output_type": "execute_result"
    }
   ],
   "source": [
    "G[dat[0].astype(int)]"
   ]
  },
  {
   "cell_type": "code",
   "execution_count": 229,
   "id": "4e67ee9e",
   "metadata": {},
   "outputs": [],
   "source": [
    "dat = [np.array([])]*nfold\n",
    "\n",
    "for iCond in range(nConds):\n",
    "    # Find indexes\n",
    "    indx = np.where(G == CONDS[iCond])[0]\n",
    "    n_indx = indx.size \n",
    "    # Shuffle indexes\n",
    "    indx = np.random.permutation(indx)\n",
    "    # Distribute across dat\n",
    "    nelemxfold = np.floor(indx.size/nfold)\n",
    "    groupNumber = np.repeat(np.arange(0,nfold), nelemxfold)\n",
    "\n",
    "    for iFold in range(nfold):\n",
    "        dat[iFold] = np.append(dat[iFold], indx[np.where(groupNumber == iFold)])\n",
    "\n",
    " "
   ]
  },
  {
   "cell_type": "code",
   "execution_count": 228,
   "id": "ee21c55c",
   "metadata": {},
   "outputs": [
    {
     "data": {
      "text/plain": [
       "array([697, 149, 699, 463, 742, 677, 351, 758, 520,  25, 584,  20, 139,\n",
       "        77,  81, 193,  64,  42, 703, 450, 381, 364, 654, 113, 459, 305,\n",
       "       746, 192, 260, 590, 147, 556, 551,  45, 481, 541, 236, 488, 519,\n",
       "       711,  83, 663, 140,   3, 306, 152, 494])"
      ]
     },
     "execution_count": 228,
     "metadata": {},
     "output_type": "execute_result"
    }
   ],
   "source": [
    " indx[np.where(groupNumber == iFold)]"
   ]
  },
  {
   "cell_type": "code",
   "execution_count": 227,
   "id": "da9591ca",
   "metadata": {},
   "outputs": [
    {
     "data": {
      "text/plain": [
       "[array([229., 753., 264., 389., 111., 482., 376., 371., 107., 122., 591.,\n",
       "        289., 570., 667., 658., 335., 698., 356., 690., 721., 737., 245.,\n",
       "        639., 391., 212., 527., 141., 329., 511., 752., 713.,   1., 759.,\n",
       "          7., 230., 413., 440., 708., 295., 598., 224., 521.,  47., 747.,\n",
       "        615., 480., 745., 384.,  91., 497., 201., 668.,  41., 474., 431.,\n",
       "        522., 200., 231., 128., 729., 715.,  50.,  86., 515., 422.,  49.,\n",
       "        244.,  23., 634., 353., 680., 661., 562.,  76., 673., 623., 287.,\n",
       "        605., 185., 744., 423., 266., 650., 689., 580., 225., 484., 164.,\n",
       "        679., 312., 263.,  78., 716., 347., 446., 235., 688., 135., 672.,\n",
       "        608., 537., 561., 378., 341., 576., 348.,  63., 565.,  75., 596.,\n",
       "        617., 575., 286.,  65., 362.,  16., 400., 311., 199., 660., 425.,\n",
       "        109., 726., 490., 404., 571., 426., 124.,  21., 741., 409., 621.,\n",
       "        340., 346., 134., 683., 105., 345.,  33.,  67., 232., 401., 665.,\n",
       "        651., 647., 485., 518., 643., 252., 500., 118., 454., 368.,  61.,\n",
       "        297.,  17., 194.,   9., 702., 560., 370., 633.,  44., 750., 365.,\n",
       "        458.,  12., 234., 712., 316., 248., 237., 467., 328., 174., 170.,\n",
       "        577.,  57., 267., 510., 756., 172., 387., 319., 432., 513., 692.,\n",
       "        253., 496., 146., 740.,   5., 517., 184., 383.,  53., 205., 405.,\n",
       "         51.,  99., 382., 355., 581., 657.,  89., 215., 468., 471., 447.,\n",
       "         62.,  43., 723., 271., 366., 635., 310., 228.,  39., 274., 442.,\n",
       "        735.,  90., 709., 619., 489., 206., 636., 693., 390., 183., 607.,\n",
       "        637., 530., 452., 258., 420., 443., 498., 725., 524., 339.,  55.,\n",
       "        301., 203., 410., 210.,  32.,  60.,  88., 343., 226., 123., 587.,\n",
       "         95., 142., 448., 727., 691., 662., 417., 538., 115., 732., 102.,\n",
       "        119., 694., 367., 536., 398., 106., 116.,  18., 314., 418., 625.,\n",
       "        630., 644., 731., 509., 685., 618., 162., 406., 656., 532., 273.,\n",
       "        743., 242., 603.,  94., 187., 325., 284., 681., 429., 552., 217.,\n",
       "        754., 129., 676., 136., 412., 593., 602.,  73., 457., 186., 114.,\n",
       "        435., 465., 144., 466., 243., 722., 545., 514., 445., 720.,  69.,\n",
       "        669., 250., 604., 168., 631., 582., 684., 219., 539., 195., 216.,\n",
       "        438., 257., 167., 270., 277., 169., 609., 100., 462., 589., 317.,\n",
       "         66., 358., 568., 385., 495.,   0., 486., 294., 611., 695., 393.,\n",
       "        544., 233., 303., 755., 159., 470., 282., 155., 595., 439., 220.,\n",
       "        279., 696.,  84.,  98., 222., 402., 553., 424., 600., 592., 416.,\n",
       "        324., 361., 326., 719.]),\n",
       " array([112., 451., 151., 512.,  24., 318., 227., 616., 564., 344., 337.,\n",
       "        620., 550., 275., 278., 455., 176., 150., 599., 558., 386., 293.,\n",
       "         28., 534., 659.,  37., 188., 453.,  15., 460., 330.,   4., 101.,\n",
       "        572.,  82.,  74., 379., 163., 132., 548., 632., 491., 373.,  79.,\n",
       "        464., 190.,  56., 648., 320., 280., 161.,  19., 700., 103., 487.,\n",
       "        372., 354., 375., 610., 757., 642., 434., 628., 433., 430., 421.,\n",
       "          6., 508., 238., 207., 175., 208., 523., 653., 249., 546.,   8.,\n",
       "        469., 307., 664., 349., 461., 363., 126., 526.,  96., 655., 502.,\n",
       "        403., 145., 396.,  72., 180., 166., 283., 160., 240., 117., 254.,\n",
       "        714., 436.,  71.,  52., 411., 414., 154., 535., 641., 640., 717.,\n",
       "        352., 504., 121.,  93., 157., 246., 736., 209., 120., 542., 332.,\n",
       "        477., 138., 506., 473., 574., 671., 594.,  68., 380., 718., 259.,\n",
       "        749., 331.,  87., 525., 476., 213., 255., 733., 428., 388., 408.,\n",
       "         11., 173., 566., 323., 153., 137., 674., 288., 586., 629., 724.,\n",
       "        728., 359., 223.,  10., 645., 549., 198., 479., 427., 646., 407.,\n",
       "        395., 158.,  92., 309., 369., 670., 419., 739.,  29., 559., 614.,\n",
       "        211., 612., 127., 601., 202., 547., 563., 706., 125., 133., 221.,\n",
       "         30.,  54., 251., 499., 626., 189., 333., 501., 543., 613., 313.,\n",
       "        181., 394., 540., 516., 531., 738., 177., 336.,  97., 675., 272.,\n",
       "        178., 579., 707.,  46., 554., 678., 374., 298., 583., 529., 377.,\n",
       "        649., 360., 130.,  26., 191.,  40., 734., 730., 342., 131., 214.,\n",
       "        327., 143., 104., 704., 334., 285., 705., 281.,  85., 296., 701.,\n",
       "        304., 588., 578.,  22., 638., 196., 165., 239., 569., 505., 456.,\n",
       "        156., 179., 478., 503., 622., 492., 247., 197., 555., 748., 437.,\n",
       "        533., 687., 256., 265.,  38.,  58., 399., 441., 218., 299., 308.,\n",
       "        397.,  13., 573., 276., 666.,  27., 321., 262., 338., 585., 300.,\n",
       "        624., 357., 302., 507., 268.,  48.,  80.,  31., 322., 291.,  36.,\n",
       "        171., 292., 350., 557., 493.,  35., 528., 710., 269., 567., 415.,\n",
       "        686., 108., 483.,  14., 290., 392., 597., 751., 475., 261.,   2.,\n",
       "        449.,  70., 148., 682., 652., 606., 444., 315.,  59., 182., 204.,\n",
       "         34., 697., 149., 699., 463., 742., 677., 351., 758., 520.,  25.,\n",
       "        584.,  20., 139.,  77.,  81., 193.,  64.,  42., 703., 450., 381.,\n",
       "        364., 654., 113., 459., 305., 746., 192., 260., 590., 147., 556.,\n",
       "        551.,  45., 481., 541., 236., 488., 519., 711.,  83., 663., 140.,\n",
       "          3., 306., 152., 494.])]"
      ]
     },
     "execution_count": 227,
     "metadata": {},
     "output_type": "execute_result"
    }
   ],
   "source": [
    "dat"
   ]
  },
  {
   "cell_type": "code",
   "execution_count": 39,
   "id": "0955206e",
   "metadata": {},
   "outputs": [
    {
     "data": {
      "text/plain": [
       "(array([95., 94., 95.,  0., 94., 96.,  0., 95., 96., 95.]),\n",
       " array([  0.  ,  15.75,  31.5 ,  47.25,  63.  ,  78.75,  94.5 , 110.25,\n",
       "        126.  , 141.75, 157.5 ]),\n",
       " <BarContainer object of 10 artists>)"
      ]
     },
     "execution_count": 39,
     "metadata": {},
     "output_type": "execute_result"
    },
    {
     "data": {
      "image/png": "[encoded data removed]",
      "text/plain": [
       "<Figure size 432x288 with 1 Axes>"
      ]
     },
     "metadata": {
      "needs_background": "light"
     },
     "output_type": "display_data"
    }
   ],
   "source": [
    "plt.hist(phi)"
   ]
  },
  {
   "cell_type": "code",
   "execution_count": 29,
   "id": "7bebee4c",
   "metadata": {},
   "outputs": [],
   "source": [
    "nfold = 2"
   ]
  },
  {
   "cell_type": "code",
   "execution_count": null,
   "id": "d303b7ab-d491-4294-ae3d-61a1c43293b4",
   "metadata": {},
   "outputs": [],
   "source": [
    "\n"
   ]
  },
  {
   "cell_type": "code",
   "execution_count": 42,
   "id": "051b5b77-c667-4957-a9c9-91f8b383d370",
   "metadata": {},
   "outputs": [
    {
     "data": {
      "text/plain": [
       "(array([120, 121, 122, 123, 124, 125, 126, 127, 128, 129, 130, 131, 132,\n",
       "        133, 134, 135, 136, 137, 138, 139, 140, 141, 142, 143, 144, 145,\n",
       "        146, 147, 148, 149, 150, 151, 152, 153, 154, 155, 156, 157, 158,\n",
       "        159, 160, 161, 162, 163, 164, 165, 166, 167, 168, 169, 170, 171,\n",
       "        172, 173, 174, 175, 176, 177, 178, 179, 180, 181, 182, 183, 184,\n",
       "        185, 186, 187, 188, 189, 190, 191, 192, 193, 194, 195, 196, 197,\n",
       "        198, 199, 200, 201, 202, 203, 204, 205, 206, 207, 208, 209, 210]),)"
      ]
     },
     "execution_count": 42,
     "metadata": {},
     "output_type": "execute_result"
    }
   ],
   "source": [
    "np.asarray(time >=.2).nonzero()"
   ]
  },
  {
   "cell_type": "code",
   "execution_count": 43,
   "id": "0e843fc1-7057-493c-a9b7-80ad0d8884e5",
   "metadata": {},
   "outputs": [
    {
     "data": {
      "text/plain": [
       "120"
      ]
     },
     "execution_count": 43,
     "metadata": {},
     "output_type": "execute_result"
    }
   ],
   "source": []
  }
 ],
 "metadata": {
  "kernelspec": {
   "display_name": "Python 3.7.13 ('mne')",
   "language": "python",
   "name": "python3"
  },
  "language_info": {
   "codemirror_mode": {
    "name": "ipython",
    "version": 3
   },
   "file_extension": ".py",
   "mimetype": "text/x-python",
   "name": "python",
   "nbconvert_exporter": "python",
   "pygments_lexer": "ipython3",
   "version": "3.7.13"
  },
  "vscode": {
   "interpreter": {
    "hash": "78277f196899d30b09f8eb84b1d60d6cc910a2e198812045736ce186b763ced0"
   }
  }
 },
 "nbformat": 4,
 "nbformat_minor": 5
}
