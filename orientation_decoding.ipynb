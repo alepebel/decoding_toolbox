{
 "cells": [
  {
   "cell_type": "markdown",
   "id": "c19c0239",
   "metadata": {},
   "source": [
    "__Forward encoding model based on Pim Mostert Decoding toolbox__\n",
    "\n",
    "Alexis Pérez Bellido (2022)"
   ]
  },
  {
   "cell_type": "code",
   "execution_count": 1,
   "id": "97c42405-a66e-42d1-a0d6-354c90df5e0e",
   "metadata": {},
   "outputs": [],
   "source": [
    "%matplotlib qt\n",
    "from scipy.io import loadmat\n",
    "import numpy as np\n",
    "import pandas as pd\n",
    "import mat73\n",
    "import sys\n",
    "import inspect #path_fun = inspect.getfile(StratifiedKFold)\n",
    "import matplotlib.pyplot as plt\n",
    "#print(sys.path)"
   ]
  },
  {
   "cell_type": "markdown",
   "id": "801a0115",
   "metadata": {},
   "source": [
    "Decoding modules"
   ]
  },
  {
   "cell_type": "code",
   "execution_count": 2,
   "id": "ae44a0ed-ac62-4e61-b368-1173b161c8db",
   "metadata": {},
   "outputs": [],
   "source": [
    "path_utils = '/Users/alex/Library/CloudStorage/OneDrive-UniversitatdeBarcelona/Projects/Condcision/Group_level_analyses/Beh_analyses/EEG_condcision_CJ/helper_funcs' \n",
    "sys.path.append(path_utils)"
   ]
  },
  {
   "cell_type": "code",
   "execution_count": 3,
   "id": "02532f87-cab1-489c-94f7-c24fc5e2fa87",
   "metadata": {},
   "outputs": [],
   "source": [
    "path = '/Users/alex/Library/CloudStorage/OneDrive-UniversitatdeBarcelona/TOOLBOXES/decoding-toolbox/data/'\n",
    "path_ori_data = path + 'testdata_orientation.mat'"
   ]
  },
  {
   "cell_type": "markdown",
   "id": "9f0f5209-8015-49bd-b6df-ecf3a1247651",
   "metadata": {},
   "source": [
    "Loading & preparing orientation data"
   ]
  },
  {
   "cell_type": "code",
   "execution_count": 4,
   "id": "c9c035db-ba98-4c6a-a62e-e963ce32e8d0",
   "metadata": {},
   "outputs": [],
   "source": [
    "ori_data = mat73.loadmat(path_ori_data)"
   ]
  },
  {
   "cell_type": "code",
   "execution_count": 6,
   "id": "c8ed4a31-37bf-41e0-9c11-81fda649ca6c",
   "metadata": {},
   "outputs": [],
   "source": [
    "Y = ori_data['Y']\n",
    "X = ori_data['X']\n",
    "time = ori_data['time']\n",
    "label = ori_data['label']"
   ]
  },
  {
   "cell_type": "code",
   "execution_count": 7,
   "id": "b3932267-b1bc-415d-95ef-f7e26b88c269",
   "metadata": {},
   "outputs": [],
   "source": [
    "phi = X * (180/8);   # Presented orientation in degrees\n",
    "binned_phi = np.digitize(phi, bins = np.array([  0, 22.5, 45, 67.5, 90, 112.5, 135, 157.5 ]) ) # bins collapsing degrees by similarity\n",
    "\n",
    "numF = Y.shape[0];\n",
    "numT = Y.shape[1];\n",
    "numN = Y.shape[2];"
   ]
  },
  {
   "cell_type": "code",
   "execution_count": 8,
   "id": "69e9a92f-374b-4890-95ab-3a7791b76858",
   "metadata": {},
   "outputs": [],
   "source": [
    "# No time dimension (We only select one point as example)\n",
    "sel_t = np.where(time >=.2)[0][0];"
   ]
  },
  {
   "cell_type": "markdown",
   "id": "7a3393d5-1532-4133-b93d-ed5a5d825c8f",
   "metadata": {},
   "source": [
    "Creating and saving dat"
   ]
  },
  {
   "cell_type": "code",
   "execution_count": 38,
   "id": "1972d8ce",
   "metadata": {},
   "outputs": [
    {
     "data": {
      "text/plain": [
       "<module 'DecToolbox' from '/Users/alex/Library/CloudStorage/OneDrive-UniversitatdeBarcelona/Projects/Condcision/Group_level_analyses/Beh_analyses/EEG_condcision_CJ/DecToolbox.py'>"
      ]
     },
     "execution_count": 38,
     "metadata": {},
     "output_type": "execute_result"
    }
   ],
   "source": [
    "import DecToolbox as dt\n",
    "from importlib import reload  # Python 3.4+\n",
    "reload(dt)"
   ]
  },
  {
   "cell_type": "code",
   "execution_count": 39,
   "id": "03087be7",
   "metadata": {},
   "outputs": [],
   "source": [
    "G = binned_phi.copy() # binning/discritizing orientation dimension to assign a balanced number of stimuli to different dat\n",
    "CONDS = np.unique(G);\n",
    "nConds = CONDS.size\n",
    "nfold = 2\n",
    "dat = dt.Createdat(G, Y, nfold)"
   ]
  },
  {
   "cell_type": "code",
   "execution_count": 43,
   "id": "6cd571a4",
   "metadata": {},
   "outputs": [
    {
     "data": {
      "text/plain": [
       "array([1, 5, 3, 1, 3, 5, 5, 8, 1, 4, 1, 5, 1, 7, 8, 5, 4, 2, 6, 6, 3, 4,\n",
       "       8, 2, 3, 5, 6, 4, 4, 3, 6, 3, 7, 1, 3, 7, 8, 6, 6, 4, 5, 2, 2, 2,\n",
       "       8, 3, 3, 4, 3, 7, 2, 2, 4, 2, 2, 7, 3, 6, 7, 8, 1, 6, 5, 6, 7, 7,\n",
       "       3, 5, 6, 7, 8, 1, 5, 1, 4, 1, 6, 7, 4, 8, 1, 2, 8, 8, 1, 7, 7, 4,\n",
       "       5, 2, 8, 5, 6, 3, 2, 7, 3, 3, 6, 4, 1, 8, 1, 7, 2, 4, 8, 2, 8, 5,\n",
       "       3, 1, 6, 7, 8, 8, 5, 2, 6, 5, 4, 5, 2, 6, 3, 6, 3, 7, 2, 6, 4, 1,\n",
       "       1, 4, 7, 2, 5, 5, 4, 8, 8, 1, 2, 2, 6, 3, 2, 1, 7, 5, 5, 5, 7, 6,\n",
       "       1, 3, 6, 3, 6, 7, 5, 8, 3, 5, 8, 7, 2, 4, 1, 4, 1, 8, 7, 8, 5, 6,\n",
       "       8, 7, 1, 4, 4, 3, 2, 4, 1, 3, 4, 7, 8, 6, 1, 3, 1, 6, 3, 3, 3, 4,\n",
       "       6, 5, 2, 5, 7, 5, 8, 7, 4, 6, 6, 8, 8, 1, 8, 7, 3, 8, 3, 7, 1, 1,\n",
       "       8, 4, 7, 7, 7, 2, 7, 5, 3, 8, 2, 8, 4, 5, 4, 1, 1, 3, 6, 5, 1, 3,\n",
       "       6, 2, 7, 6, 5, 8, 2, 4, 6, 7, 1, 4, 2, 5, 5, 5, 6, 1, 3, 3, 2, 4,\n",
       "       6, 4, 4, 4, 2, 5, 2, 4, 7, 2, 8, 2, 7, 5, 1, 1, 3, 2, 6, 8, 2, 4,\n",
       "       6, 1, 2, 7, 4, 3, 3, 2, 4, 5, 7, 8, 5, 2, 2, 7, 7, 3, 7, 6, 7, 6,\n",
       "       3, 2, 1, 6, 4, 5, 6, 8, 8, 8, 1, 8, 2, 6, 4, 8, 5, 6, 4, 5, 1, 5,\n",
       "       7, 8, 4, 1, 3, 2, 2, 3, 3, 8, 7, 1, 7, 5, 4, 6, 3, 6, 4, 2, 5, 6,\n",
       "       6, 3, 5, 5, 3, 1, 5, 4, 5, 3, 8, 7, 2, 1, 8, 1, 6, 3, 4, 7, 1, 1,\n",
       "       7, 8, 4, 2, 8, 1])"
      ]
     },
     "execution_count": 43,
     "metadata": {},
     "output_type": "execute_result"
    }
   ],
   "source": [
    "G[dat[0]['train_index']]"
   ]
  },
  {
   "cell_type": "code",
   "execution_count": 49,
   "id": "9f3cd23a",
   "metadata": {},
   "outputs": [],
   "source": [
    "dat = dict()\n",
    "dat['X_train'] = G[ dat[0]['train_index']][:,np.newaxis]\n",
    "dat['Y_train'] = np.squeeze(Y[:,sel_t, dat[0]['train_index']])\n",
    "dat['phi_train'] = phi[ dat[0]['train_index']][:,np.newaxis]\n",
    "\n",
    "dat['X_test'] = G[ dat[0]['test_index']][:,np.newaxis]\n",
    "dat['Y_test'] = np.squeeze(Y[:,sel_t, dat[0]['test_index']])\n",
    "dat['phi_test'] = phi[ dat[0]['test_index']][:,np.newaxis]"
   ]
  },
  {
   "cell_type": "code",
   "execution_count": 44,
   "id": "9f3cd23a",
   "metadata": {},
   "outputs": [],
   "source": [
    "dat = dict()\n",
    "dat['X_train'] = G[ dat[0]['train_index']]\n",
    "dat['Y_train'] = np.squeeze(Y[:,sel_t, dat[0]['train_index']])\n",
    "dat['phi_train'] = phi[ dat[0]['train_index']]\n",
    "\n",
    "dat['X_test'] = G[ dat[0]['test_index']]\n",
    "dat['Y_test'] = np.squeeze(Y[:,sel_t, dat[0]['test_index']])\n",
    "dat['phi_test'] = phi[ dat[0]['test_index']]"
   ]
  },
  {
   "cell_type": "code",
   "execution_count": 87,
   "id": "cf93193b",
   "metadata": {},
   "outputs": [],
   "source": [
    "# for comparing this script and the matlab one\n",
    "import scipy\n",
    "path_folds_data = '/Users/alex/Library/CloudStorage/OneDrive-UniversitatdeBarcelona/Projects/Condcision/Group_level_analyses/Beh_analyses/EEG_condcision_CJ/folds.mat'\n",
    "\n",
    "mat = scipy.io.loadmat(path_folds_data)"
   ]
  },
  {
   "cell_type": "code",
   "execution_count": 88,
   "id": "0066793f",
   "metadata": {},
   "outputs": [],
   "source": [
    "idx_Train = mat['folds'][0][0].T\n",
    "idx_Test =mat['folds'][1][0][0].T"
   ]
  },
  {
   "cell_type": "code",
   "execution_count": 89,
   "id": "8b02b113",
   "metadata": {},
   "outputs": [],
   "source": [
    "#Folds_ori = Folds.copy()\n",
    "dat = {}\n",
    "dat['X_train'] = G[idx_Train-1] # -1 to correct for matlab to python indexes\n",
    "dat['X_test'] = G[idx_Test-1]\n",
    "dat['Y_train'] = np.squeeze(Y[:,sel_t, idx_Train-1])\n",
    "dat['Y_test'] = np.squeeze(Y[:,sel_t, idx_Test-1])\n",
    "dat['phi_train'] = phi[idx_Train-1]\n",
    "dat['phi_test'] = phi[idx_Test-1]"
   ]
  },
  {
   "cell_type": "markdown",
   "id": "b3c95c7a",
   "metadata": {},
   "source": [
    "Create design matrix"
   ]
  },
  {
   "cell_type": "code",
   "execution_count": 90,
   "id": "c6bbd8c5",
   "metadata": {},
   "outputs": [
    {
     "data": {
      "text/plain": [
       "<matplotlib.image.AxesImage at 0x7ff2faca0b10>"
      ]
     },
     "execution_count": 90,
     "metadata": {},
     "output_type": "execute_result"
    }
   ],
   "source": [
    "numC = 8 # how many channels to use\n",
    "\n",
    "cfg = dict()\n",
    "cfg['kappa'] = 4\n",
    "cfg['NumC'] = numC\n",
    "cfg['Tuning'] = 'vonmises'#'halfRectCos'\n",
    "cfg['offset'] = 0\n",
    "\n",
    "design, sortedesign = dt.stim_features(dat['phi_train'], cfg)\n",
    "\n",
    "fig, ax = plt.subplots(1, 1, figsize=(3, 3))\n",
    "plt.imshow(sortedesign,aspect='auto',interpolation = 'none')"
   ]
  },
  {
   "cell_type": "markdown",
   "id": "baeb1875",
   "metadata": {},
   "source": [
    "Training encoding model"
   ]
  },
  {
   "cell_type": "code",
   "execution_count": 91,
   "id": "2dc12dbc",
   "metadata": {},
   "outputs": [],
   "source": [
    "cfg = dict()\n",
    "cfg['gamma'] = 0.01\n",
    "cfg['demean'] = True\n",
    "cfg['returnPattern'] = True\n",
    "decoder = dt.train_encoder(design, dat['Y_train'], cfg)"
   ]
  },
  {
   "cell_type": "markdown",
   "id": "12b3406d",
   "metadata": {},
   "source": [
    "Testing the encoding model"
   ]
  },
  {
   "cell_type": "code",
   "execution_count": 92,
   "id": "85b5df80",
   "metadata": {},
   "outputs": [],
   "source": [
    "cfg = dict()\n",
    "cfg['demean'] = 'traindata'\n",
    "Xhat = dt.test_encoder( decoder, dat['Y_test'], cfg)"
   ]
  },
  {
   "cell_type": "markdown",
   "id": "d4fc6350",
   "metadata": {},
   "source": [
    "__Preparing data for plotting results__"
   ]
  },
  {
   "cell_type": "code",
   "execution_count": 93,
   "id": "dfe8b38b",
   "metadata": {},
   "outputs": [],
   "source": [
    "m = np.zeros((numC,numC))\n",
    "for ic in range(numC):\n",
    "   m[:,ic] =  np.mean( Xhat[:, np.where(dat['X_test'] == (ic+1))[0]], axis = 1)\n"
   ]
  },
  {
   "cell_type": "markdown",
   "id": "940fe71e",
   "metadata": {},
   "source": [
    "Re-alligning predictions for trials with identical orientation"
   ]
  },
  {
   "cell_type": "code",
   "execution_count": 94,
   "id": "4c254369",
   "metadata": {},
   "outputs": [],
   "source": [
    "Xhat_centered = 0*Xhat.copy()\n",
    "for ic in range(numC): # here trials that match similar label orientation are shifted together x positions (np.roll)\n",
    "    Xhat_centered[:,np.where(dat['X_test'] == (ic+1))] = np.roll(Xhat[:,np.where(dat['X_test'] == (ic+1))], -ic, axis = 0)"
   ]
  },
  {
   "cell_type": "code",
   "execution_count": 95,
   "id": "33c1e3e1",
   "metadata": {},
   "outputs": [],
   "source": [
    "m_centered = np.zeros((numC,numC))\n",
    "for ic in range(numC):\n",
    "   m_centered[:,ic] =  np.mean( Xhat_centered[:, np.where(dat['X_test'] == (ic+1))[0]], axis = 1)"
   ]
  },
  {
   "cell_type": "code",
   "execution_count": 96,
   "id": "b5a77198",
   "metadata": {},
   "outputs": [],
   "source": [
    "x_labels = np.array([  0. ,  22.5,  45. ,  67.5,  90. , 112.5, 135. , 157.5])\n",
    "Xhat_centeredmean = np.mean(Xhat_centered, axis = 1)\n",
    "Xhat_centeredsem = np.std(m_centered, axis = 1)/Xhat.shape[1]\n",
    "Xhat_shiftedmean = np.roll(Xhat_centeredmean, 3, axis = 0)\n",
    "Xhat_shiftedsem = np.roll(Xhat_centeredsem, 3, axis = 0)\n",
    "x_centeredlabels = np.roll(x_labels,  3, axis = 0)"
   ]
  },
  {
   "cell_type": "code",
   "execution_count": 97,
   "id": "3011b964",
   "metadata": {},
   "outputs": [
    {
     "data": {
      "text/plain": [
       "0.22938762394448162"
      ]
     },
     "execution_count": 97,
     "metadata": {},
     "output_type": "execute_result"
    }
   ],
   "source": [
    "# Kernel to back project channel outputs to orientation space\n",
    "kernel = np.exp(1j * (np.linspace(0, numC-1,numC)*(2*np.pi/numC)))\n",
    "Z = kernel @ Xhat\n",
    "\n",
    "theta = np.mod(np.angle(Z), 2*np.pi) * (180/np.pi) / 2    # Decoded orientation (retain the module of the complex number)\n",
    "\n",
    "r = np.mean(np.exp(1j * (theta - dat['phi_test']) * (np.pi/180)*2)) # correlation between decoded and presented orientation\n",
    "r = np.abs(r) * np.cos(np.angle(r))\n",
    "r"
   ]
  },
  {
   "cell_type": "markdown",
   "id": "36caf6e9",
   "metadata": {},
   "source": [
    "Getting mean orientation values for each stimulus bin"
   ]
  },
  {
   "cell_type": "code",
   "execution_count": 60,
   "id": "c0088c54",
   "metadata": {},
   "outputs": [
    {
     "data": {
      "text/plain": [
       "5.206371903207021"
      ]
     },
     "execution_count": 60,
     "metadata": {},
     "output_type": "execute_result"
    }
   ],
   "source": [
    "np.mod(np.angle(np.mean(np.exp(1j * theta[np.where(dat['X_test'] == (ic+1))[0]] * (np.pi/180)*2))), 2*np.pi)"
   ]
  },
  {
   "cell_type": "markdown",
   "id": "6af6cbcc",
   "metadata": {},
   "source": [
    "# Plotting results"
   ]
  },
  {
   "cell_type": "code",
   "execution_count": 44,
   "id": "10eb625f",
   "metadata": {},
   "outputs": [
    {
     "data": {
      "text/plain": [
       "<matplotlib.legend.Legend at 0x7fdee3c66910>"
      ]
     },
     "execution_count": 44,
     "metadata": {},
     "output_type": "execute_result"
    }
   ],
   "source": [
    "fig, ax = plt.subplots(1,1,figsize=(4,3))\n",
    "plt.plot(x_labels, m)\n",
    "ax.set_xticks(x_labels)\n",
    "ax.set_xticklabels(x_labels.astype(str))\n",
    "plt.legend(x_labels, loc=3, prop={'size': 6})"
   ]
  },
  {
   "cell_type": "code",
   "execution_count": 43,
   "id": "2595855b",
   "metadata": {},
   "outputs": [
    {
     "data": {
      "text/plain": [
       "[Text(0.0, 0, '112.5'),\n",
       " Text(22.5, 0, '135.0'),\n",
       " Text(45.0, 0, '157.5'),\n",
       " Text(67.5, 0, '0.0'),\n",
       " Text(90.0, 0, '22.5'),\n",
       " Text(112.5, 0, '45.0'),\n",
       " Text(135.0, 0, '67.5'),\n",
       " Text(157.5, 0, '90.0')]"
      ]
     },
     "execution_count": 43,
     "metadata": {},
     "output_type": "execute_result"
    }
   ],
   "source": [
    "fig, ax = plt.subplots(1,1,figsize=(4,3))\n",
    "\n",
    "plt.plot(x_labels, Xhat_shiftedmean)\n",
    "plt.fill_between(x_labels, Xhat_shiftedmean-Xhat_shiftedsem, Xhat_shiftedmean+Xhat_shiftedsem)\n",
    "plt.scatter(x_labels, Xhat_shiftedmean, color = 'red')\n",
    "ax.set_xticks(x_labels)\n",
    "ax.set_xticklabels(x_centeredlabels.astype(str))"
   ]
  },
  {
   "cell_type": "code",
   "execution_count": 52,
   "id": "c1bf1c1c",
   "metadata": {},
   "outputs": [
    {
     "data": {
      "text/plain": [
       "[Text(0.0, 0, '0.0'),\n",
       " Text(22.5, 0, '22.5'),\n",
       " Text(45.0, 0, '45.0'),\n",
       " Text(67.5, 0, '67.5'),\n",
       " Text(90.0, 0, '90.0'),\n",
       " Text(112.5, 0, '112.5'),\n",
       " Text(135.0, 0, '135.0'),\n",
       " Text(157.5, 0, '157.5')]"
      ]
     },
     "execution_count": 52,
     "metadata": {},
     "output_type": "execute_result"
    }
   ],
   "source": [
    "fig, ax = plt.subplots(1,1,figsize=(4,3))\n",
    "plt.scatter(x_labels, mtheta, color = 'red')\n",
    "plt.scatter(dat['phi_test'], theta, s = 1)\n",
    "ax.set_xticks(x_labels)\n",
    "ax.set_xticklabels(x_labels.astype(str))\n"
   ]
  },
  {
   "cell_type": "markdown",
   "id": "0019c8d0",
   "metadata": {},
   "source": [
    "np.mean(np.exp(1j * (theta - dat['phi_test']) * (np.pi/180)*2))"
   ]
  },
  {
   "cell_type": "code",
   "execution_count": 501,
   "id": "36b37840",
   "metadata": {},
   "outputs": [],
   "source": [
    "corr_out = np.zeros([NumF,1])\n",
    "for iY in range(NumF):\n",
    "    corr_out[[iY]] = np.corrcoef(Ytest[iY,:], Yhat[iY,:])[0,1]\n",
    "\n"
   ]
  },
  {
   "cell_type": "code",
   "execution_count": 503,
   "id": "9ef6ddad",
   "metadata": {},
   "outputs": [
    {
     "data": {
      "text/plain": [
       "<matplotlib.image.AxesImage at 0x7fdcc35bea10>"
      ]
     },
     "execution_count": 503,
     "metadata": {},
     "output_type": "execute_result"
    }
   ],
   "source": [
    "plt.imshow(corr_out, aspect = 'auto', interpolation = 'none')"
   ]
  },
  {
   "cell_type": "code",
   "execution_count": 230,
   "id": "1ac25b89",
   "metadata": {},
   "outputs": [],
   "source": [
    "    trainY = trainY - trainY.mean(axis=1, keepdims=True)\n",
    "    decoder['dmY'] = trainY.T # save demeaned Y for posterior inspection"
   ]
  },
  {
   "cell_type": "code",
   "execution_count": 9,
   "id": "d24c0b40",
   "metadata": {},
   "outputs": [],
   "source": [
    "#    Created by Alexis Pérez Bellido, 2022\n",
    "\n",
    "# Creating dat containing test and train indexes\n",
    "def Createdat(X,nfold):\n",
    "    from sklearn.model_selection import StratifiedKFold\n",
    "    skf = StratifiedKFold(n_splits=nfold,shuffle=False)\n",
    "    CrossValIdx = [None] * nfold\n",
    "    i = 0\n",
    "    for train_index, test_index  in  skf.split(X = np.zeros(numN), y = X):\n",
    "        #print(\"TRAIN:\", train_index, \"TEST:\", test_index)\n",
    "        X_train, X_test = X[train_index], X[test_index]\n",
    "        CrossValIdx[i] = { 'train_index': train_index, 'test_index': test_index}\n",
    "        i += 1\n",
    "\n",
    "    dat = dict()\n",
    "    dat['X_train'] = G[ CrossValIdx[0]['train_index']][:,np.newaxis]\n",
    "    dat['Y_train'] = np.squeeze(Y[:,sel_t, CrossValIdx[0]['train_index']])\n",
    "    dat['phi_train'] = phi[ CrossValIdx[0]['train_index']][:,np.newaxis]\n",
    "\n",
    "    dat['X_test'] = G[ CrossValIdx[0]['test_index']][:,np.newaxis]\n",
    "    dat['Y_test'] = np.squeeze(Y[:,sel_t, CrossValIdx[0]['test_index']])\n",
    "    dat['phi_test'] = phi[ CrossValIdx[0]['test_index']][:,np.newaxis]\n",
    "    return dat"
   ]
  },
  {
   "cell_type": "code",
   "execution_count": 10,
   "id": "1ab1a2c9",
   "metadata": {},
   "outputs": [],
   "source": [
    "#   [design] = stim_features(cfg, phi)\n",
    "#    Returns hypothetical channel responses given a presented orientation, cf. Brouwer & Heeger.\n",
    "#\n",
    "#    phi         Array of length N, where N is the number of trials, that specifies the presented\n",
    "#                orientation on each trial. Orientation is specified in degrees and is expected to\n",
    "#                have a range of 0-180.\n",
    "#    cfg         Configuration dictionary that can possess the following fields:\n",
    "#                ['NumC']                               The number of hypothetical channels C to use. The\n",
    "#                                                    channels are equally distributed across the circle,\n",
    "#                                                    starting at 0.\n",
    "#                ['Tuning']                        The tuning curve according to which the responses\n",
    "#                                                    are calculated.\n",
    "#                ['Tuning'] = 'vonMises'           Von Mises curve. Kappa: concentration parameter.\n",
    "#                ['Tuning'] = 'halfRectCos'        Half-wave rectified cosine. Kappa: power.\n",
    "#                ['Tuning'] = [function_handle]    User-specified function that can take a matrix as input,\n",
    "#                                                    containing angles in radians with a range of 0-pi.\n",
    "#                ['kappa']                              Parameter(s) to be passed on to the tuning curve.\n",
    "#                ['offset']                            The orientation of the first channel. (default = 0)\n",
    "#           \n",
    "#    design      The design matrix, of size C x N, containing the hypothetical channel responses.\n",
    "#    sortedesign A sorted version of the design matrix, sorted by the presented orientation to improve model visualization.\n",
    "\n",
    "#    Created by Pim Mostert, 2016 in Matlab. Exported to Python by Alexis Pérez Bellido, 2022\n",
    "\n",
    "def stim_features(phi, cfg):\n",
    "    kappa = cfg['kappa']\n",
    "    NumC = cfg['NumC']\n",
    "    if 'offset' not in cfg:\n",
    "        offset = 0\n",
    "    else:\n",
    "         offset = cfg['offset']\n",
    "\n",
    "    sort_idx = phi.argsort(axis = 0)\n",
    "\n",
    "    NumN = phi.size\n",
    "    phi = phi - offset\n",
    "    design = np.arange(0,NumC)[np.newaxis,:].T * np.ones([1, NumN]) * 180/NumC\n",
    "    design = design - np.ones([NumC,1])*phi.T\n",
    "    design = design * (np.pi/180) # transforming to radians\n",
    "\n",
    "    if cfg['Tuning'] == 'halfRectCos':\n",
    "        fn = lambda x: np.abs(np.cos(x))**kappa\n",
    "    if cfg['Tuning'] == 'vonmises':\n",
    "        mu = 0\n",
    "        fn = lambda x: np.exp(kappa*np.cos(2*x-mu))/(2*np.pi*np.i0(kappa)) \n",
    "    \n",
    "    design = fn(design)\n",
    "    \n",
    "    sortedesign = design[:, sort_idx] #np.take_along_axis(design, sort_idx, axis = 1).copy()\n",
    "    \n",
    "    return [design , sortedesign]\n",
    "\n"
   ]
  },
  {
   "cell_type": "code",
   "execution_count": 11,
   "id": "b244adf4",
   "metadata": {},
   "outputs": [],
   "source": [
    "#   [decoder] = train_encoder(X, Y, cfg)\n",
    "#    Trains a linear decoder \"beamformer style\" to optimally recover the latent components as \n",
    "#    prescribed in X. Several decoders may be trained indepedently, corresponding to several\n",
    "#    latent components.\n",
    "#\n",
    "#    X           Vector or matrix of size C x N, where C is the number of components and N is\n",
    "#                the number of trials, that contains the expected/prescribed component activity\n",
    "#                in the training data.\n",
    "#    Y           Matrix of size F x N, where F is the number of features, that contains the\n",
    "#                training data.\n",
    "#    cfg         Configuration struct that can possess the following fields:\n",
    "#                ['gamma'] = [scalar]                Shrinkage regularization parameter, with range [0 1]. \n",
    "#                                                 No default given.\n",
    "#                ['returnPattern'] = 'yes' or 'no'   Whether the spatial patterns of the components should\n",
    "#                                                 be returned. Default = 'no';\n",
    "#                ['demean'] = 'yes' or 'no'          Whether to demean the data first (per feature, over\n",
    "#                                                 trials). Default = 'yes';.\n",
    "#\n",
    "#    decoder     The (set of) decoder(s), that may be passed on to an appropriate decoding function,\n",
    "#                e.g. decode_beamformer. It may contain a field .pattern of size C x F\n",
    "#\n",
    "#    See also DECODE_BEAMFORMER.\n",
    "\n",
    "#    Created by Pim Mostert, 2016 in Matlab. Exported to Python by Alexis Pérez Bellido, 2022\n",
    "\n",
    "def train_encoder(X, Y, cfg): \n",
    "    Y = Y.T\n",
    "    X = X.T\n",
    "    numC = X.shape[1]\n",
    "    numF = Y.shape[1]\n",
    "    decoder = dict()\n",
    "    gamma = cfg['gamma']\n",
    "\n",
    "    # demean activity in each trial\n",
    "    if 'demean' not in cfg:\n",
    "        cfg['demean'] = True\n",
    "\n",
    "    if 'returnPattern' not in cfg:\n",
    "        cfg['returnPattern'] = False\n",
    "\n",
    "    if  cfg['demean']:\n",
    "        Ym = Y.mean(axis=0, keepdims=True)\n",
    "        Y = Y - np.repeat(Ym, axis = 0, repeats = Y.shape[0])\n",
    "        decoder['dmY'] = Ym.T # save demeaned Y for posterior inspection\n",
    "    \n",
    "    if cfg['returnPattern']:\n",
    "        decoder['pattern'] = np.zeros([numF, numC]) \n",
    "\n",
    "    decoder['W'] = np.zeros([numC, numF]) # weights empty matrix\n",
    "\n",
    "\n",
    "    for ic in range(numC):\n",
    "        # Estimate leadfield for current channel\n",
    "        l = ((X[:,ic].T @ X[:,ic])**-1) * (X[:,[ic]].T @ Y) \n",
    "\n",
    "        if cfg['returnPattern']:\n",
    "            decoder['pattern'][:, ic] = l\n",
    "        # Estimate noise (what is not explained by the regressors coefficients)\n",
    "        N = Y - X[:,[ic]] * l\n",
    "        # Estimate noise covariance\n",
    "        S = np.cov(N,rowvar=False).copy() # rowvar is necessary to get the correct covariance matrix shape\n",
    "        #  Regularize\n",
    "        S = (1-gamma)*S + gamma*np.eye(numF) * np.trace(S)/numF #% [w,d] = eig(S);  eigenvalues -> pdiag(d)\n",
    "        decoder['W'][ic, :] = np.dot(l,np.linalg.inv(S))\n",
    "\n",
    "    return decoder\n",
    "\n"
   ]
  },
  {
   "cell_type": "code",
   "execution_count": 13,
   "id": "271c8b69",
   "metadata": {},
   "outputs": [],
   "source": [
    "def test_encoder( decoder, Y, cfg):\n",
    "    NumN = Y.shape[1]\n",
    "    NumC = decoder['W'].shape[0]\n",
    "    NumF = Y.shape[0]\n",
    "\n",
    "    # Demean or not demean\n",
    "    if cfg['demean'] == 'traindata': # demean test data with mean of training data\n",
    "        Y = Y - np.repeat(decoder['dmY'], axis = 1, repeats = NumN)\n",
    "    if cfg['demean'] == 'testdata':\n",
    "        Ym = Y.mean(axis = 0, keepdims=True)\n",
    "        Y = Y - np.repeat(Ym, axis = 1, repeats = NumN)\n",
    "\n",
    "    # Decode\n",
    "    # Inverting the calculated weights for each channel to decode the stimuli\n",
    "\n",
    "    decoder['iW'] = 0*decoder['W'].copy() # empty array to store the inverted weights\n",
    "\n",
    "    for ic in range(NumC):\n",
    "        W = decoder['W'][ic,:]\n",
    "        decoder['iW'][ic,:] = W / (W @ W.T) # inverting the weights\n",
    "\n",
    "    Xhat = decoder['iW'] @ Y # Predicting stim based on activity multiplying by the inverted decoder -> Y = WX + N, doing this is like calculating X = Y/N\n",
    "    return Xhat\n"
   ]
  },
  {
   "cell_type": "code",
   "execution_count": 42,
   "id": "777a5a9b",
   "metadata": {},
   "outputs": [
    {
     "data": {
      "text/plain": [
       "<matplotlib.image.AxesImage at 0x7fdcc0c083d0>"
      ]
     },
     "execution_count": 42,
     "metadata": {},
     "output_type": "execute_result"
    }
   ],
   "source": []
  },
  {
   "cell_type": "code",
   "execution_count": 529,
   "id": "c4ef4c26",
   "metadata": {},
   "outputs": [
    {
     "data": {
      "text/plain": [
       "<matplotlib.image.AxesImage at 0x7fb169e51710>"
      ]
     },
     "execution_count": 529,
     "metadata": {},
     "output_type": "execute_result"
    }
   ],
   "source": [
    "\n",
    "plt.imshow(design)"
   ]
  },
  {
   "cell_type": "code",
   "execution_count": 502,
   "id": "97d7053f",
   "metadata": {},
   "outputs": [
    {
     "ename": "ValueError",
     "evalue": "operands could not be broadcast together with shapes (8,8) (8,380) ",
     "output_type": "error",
     "traceback": [
      "\u001b[0;31m---------------------------------------------------------------------------\u001b[0m",
      "\u001b[0;31mValueError\u001b[0m                                Traceback (most recent call last)",
      "\u001b[0;32m/var/folders/4m/3h_3fwxd7v33qzl6mfvbj3tr0000gn/T/ipykernel_36296/2559500768.py\u001b[0m in \u001b[0;36m<module>\u001b[0;34m\u001b[0m\n\u001b[0;32m----> 1\u001b[0;31m \u001b[0mdesign\u001b[0m \u001b[0;34m=\u001b[0m \u001b[0mdesign\u001b[0m \u001b[0;34m-\u001b[0m \u001b[0mnp\u001b[0m\u001b[0;34m.\u001b[0m\u001b[0mones\u001b[0m\u001b[0;34m(\u001b[0m\u001b[0;34m[\u001b[0m\u001b[0mNumC\u001b[0m\u001b[0;34m,\u001b[0m\u001b[0;36m1\u001b[0m\u001b[0;34m]\u001b[0m\u001b[0;34m)\u001b[0m\u001b[0;34m*\u001b[0m\u001b[0mphi_des\u001b[0m\u001b[0;34m.\u001b[0m\u001b[0mT\u001b[0m\u001b[0;34m\u001b[0m\u001b[0;34m\u001b[0m\u001b[0m\n\u001b[0m",
      "\u001b[0;31mValueError\u001b[0m: operands could not be broadcast together with shapes (8,8) (8,380) "
     ]
    }
   ],
   "source": []
  },
  {
   "cell_type": "code",
   "execution_count": 359,
   "id": "d2eade03",
   "metadata": {},
   "outputs": [
    {
     "name": "stdout",
     "output_type": "stream",
     "text": [
      "TRAIN: [  0   1   2   3   4   5   7   8   9  10  11  13  14  15  16  17  18  19\n",
      "  20  22  23  24  25  26  27  28  29  30  31  32  33  36  37  38  39  40\n",
      "  41  42  43  44  45  46  47  49  51  52  53  54  56  58  59  60  61  62\n",
      "  63  64  65  66  67  68  69  70  71  72  74  75  76  77  78  80  81  82\n",
      "  83  84  87  88  89  90  91  92  94  95  96  97 101 102 103 105 107 108\n",
      " 109 111 112 113 115 116 119 120 121 122 124 126 127 128 129 132 133 134\n",
      " 135 136 137 138 139 142 143 144 145 146 147 148 149 150 151 152 153 154\n",
      " 155 157 158 159 161 162 163 164 165 166 168 170 171 172 173 174 175 177\n",
      " 178 179 180 181 182 183 184 185 186 187 188 189 190 191 192 193 194 195\n",
      " 196 198 199 200 201 202 204 205 206 207 210 213 214 215 216 217 218 219\n",
      " 220 221 222 223 224 225 226 227 229 230 231 232 233 234 235 237 238 239\n",
      " 240 242 243 244 245 248 249 252 253 254 257 258 260 261 262 263 264 265\n",
      " 266 268 269 270 271 272 273 274 275 276 280 282 283 284 285 287 288 289\n",
      " 290 291 293 294 295 296 297 299 300 301 303 304 305 306 307 308 309 311\n",
      " 312 313 314 315 316 318 319 320 323 325 326 327 328 329 330 332 336 337\n",
      " 338 339 340 341 342 343 345 346 347 348 349 350 351 352 353 354 355 356\n",
      " 357 358 359 362 363 364 365 366 370 371 373 374 376 377 378 379 380 381\n",
      " 382 383 384 385 386 388 390 391 392 393 394 395 396 397 398 399 400 401\n",
      " 402 403 406 409 410 411 412 413 414 415 416 417 418 419 420 421 422 423\n",
      " 424 425 426 427 428 429 430 431 432 433 434 435 436 437 438 440 441 443\n",
      " 444 445 446 447 448 450 451 454 456 458 459 460 461 462 463 464 465 467\n",
      " 468 469 470 471 472 473 474 475 476 477 478 479 480 481 482 485 486 488\n",
      " 489 490 491 492 494 495 496 497 498 499 500 501 503 504 505 506 507 510\n",
      " 511 512 513 515 516 517 518 519 520 522 523 524 526 527 528 529 530 531\n",
      " 532 533 534 535 536 537 538 540 541 542 544 546 547 548 549 550 552 553\n",
      " 554 556 557 558 559 560 561 562 563 565 566 567 568 570 571 573 574 575\n",
      " 579 580 582 583 584 585 586 587 588 589 590 591 592 593 594 595 596 597\n",
      " 598 599 600 601 602 604 606 607 608 610 612 613 614 616 617 618 619 621\n",
      " 622 623 624 625 626 627 628 629 630 631 632 633 636 637 638 639 640 641\n",
      " 644 645 646 647 648 649 650 652 654 655 656 657 658 660 661 664 665 666\n",
      " 668 669 672 673 674 675 676 677 678 679 682 683 684 686 687 689 690 692\n",
      " 694 695 696 697 698 701 703 704 705 706 707 708 710 712 713 717 718 719\n",
      " 720 721 722 723 724 725 726 727 728 730 731 732 733 734 735 736 737 738\n",
      " 739 740 742 743 744 745 747 748 751 753 755 757 758 759] TEST: [  6  12  21  34  35  48  50  55  57  73  79  85  86  93  98  99 100 104\n",
      " 106 110 114 117 118 123 125 130 131 140 141 156 160 167 169 176 197 203\n",
      " 208 209 211 212 228 236 241 246 247 250 251 255 256 259 267 277 278 279\n",
      " 281 286 292 298 302 310 317 321 322 324 331 333 334 335 344 360 361 367\n",
      " 368 369 372 375 387 389 404 405 407 408 439 442 449 452 453 455 457 466\n",
      " 483 484 487 493 502 508 509 514 521 525 539 543 545 551 555 564 569 572\n",
      " 576 577 578 581 603 605 609 611 615 620 634 635 642 643 651 653 659 662\n",
      " 663 667 670 671 680 681 685 688 691 693 699 700 702 709 711 714 715 716\n",
      " 729 741 746 749 750 752 754 756]\n",
      "TRAIN: [  0   1   2   5   6   8  10  11  12  14  15  18  19  20  21  22  23  24\n",
      "  25  26  28  29  30  32  33  34  35  36  37  39  41  42  43  44  45  46\n",
      "  47  48  50  51  52  53  54  55  56  57  59  60  61  63  66  67  69  71\n",
      "  72  73  74  75  78  79  80  82  84  85  86  90  91  92  93  95  96  97\n",
      "  98  99 100 102 103 104 105 106 107 109 110 111 112 113 114 115 116 117\n",
      " 118 119 120 122 123 124 125 126 127 128 129 130 131 132 134 135 136 137\n",
      " 139 140 141 143 144 145 146 147 148 149 150 152 153 154 155 156 158 159\n",
      " 160 162 164 166 167 169 170 171 172 173 174 175 176 177 178 179 181 182\n",
      " 184 185 186 187 190 191 192 193 194 195 196 197 198 199 201 202 203 204\n",
      " 205 207 208 209 210 211 212 213 214 215 216 217 218 219 220 221 222 223\n",
      " 225 226 228 232 233 234 235 236 237 238 239 240 241 242 243 244 246 247\n",
      " 250 251 254 255 256 258 259 260 261 262 264 265 266 267 268 269 270 271\n",
      " 272 273 274 275 276 277 278 279 280 281 283 284 286 287 288 289 291 292\n",
      " 294 295 296 298 299 300 301 302 303 304 306 308 309 310 311 312 313 314\n",
      " 315 316 317 318 319 321 322 323 324 326 327 328 329 330 331 332 333 334\n",
      " 335 336 338 339 340 341 342 343 344 345 347 348 349 350 352 353 354 355\n",
      " 356 358 360 361 362 363 364 366 367 368 369 370 372 373 375 376 377 378\n",
      " 379 382 383 384 385 386 387 388 389 390 392 393 395 396 397 398 399 400\n",
      " 401 402 403 404 405 406 407 408 409 410 411 412 413 414 415 416 417 418\n",
      " 419 422 424 425 426 427 428 430 431 432 433 434 435 438 439 440 442 443\n",
      " 444 446 448 449 450 451 452 453 454 455 457 458 460 461 462 465 466 467\n",
      " 469 470 471 473 475 476 480 481 482 483 484 487 489 491 492 493 494 496\n",
      " 497 498 499 500 502 503 504 505 506 507 508 509 511 512 513 514 515 516\n",
      " 517 519 520 521 523 525 526 527 528 531 533 534 535 536 537 538 539 541\n",
      " 542 543 544 545 546 548 549 550 551 552 553 554 555 557 558 559 560 561\n",
      " 562 563 564 565 567 569 570 571 572 574 576 577 578 579 580 581 582 583\n",
      " 585 586 587 589 590 591 592 595 598 600 601 603 604 605 606 609 611 614\n",
      " 615 616 617 619 620 621 622 623 625 626 627 629 630 631 632 633 634 635\n",
      " 636 637 639 640 641 642 643 644 645 647 648 649 650 651 652 653 654 655\n",
      " 656 657 658 659 661 662 663 664 665 666 667 668 670 671 672 673 674 676\n",
      " 677 678 679 680 681 682 684 685 686 687 688 691 692 693 694 695 696 697\n",
      " 698 699 700 701 702 703 705 706 707 708 709 711 713 714 715 716 717 718\n",
      " 719 721 724 727 728 729 730 731 732 733 734 735 736 738 740 741 743 744\n",
      " 745 746 747 748 749 750 751 752 753 754 755 756 758 759] TEST: [  3   4   7   9  13  16  17  27  31  38  40  49  58  62  64  65  68  70\n",
      "  76  77  81  83  87  88  89  94 101 108 121 133 138 142 151 157 161 163\n",
      " 165 168 180 183 188 189 200 206 224 227 229 230 231 245 248 249 252 253\n",
      " 257 263 282 285 290 293 297 305 307 320 325 337 346 351 357 359 365 371\n",
      " 374 380 381 391 394 420 421 423 429 436 437 441 445 447 456 459 463 464\n",
      " 468 472 474 477 478 479 485 486 488 490 495 501 510 518 522 524 529 530\n",
      " 532 540 547 556 566 568 573 575 584 588 593 594 596 597 599 602 607 608\n",
      " 610 612 613 618 624 628 638 646 660 669 675 683 689 690 704 710 712 720\n",
      " 722 723 725 726 737 739 742 757]\n",
      "TRAIN: [  0   1   3   4   6   7   9  12  13  15  16  17  18  20  21  22  23  25\n",
      "  26  27  28  31  34  35  36  37  38  40  41  46  47  48  49  50  51  53\n",
      "  54  55  56  57  58  59  60  62  63  64  65  67  68  69  70  71  72  73\n",
      "  74  75  76  77  78  79  80  81  82  83  85  86  87  88  89  90  92  93\n",
      "  94  97  98  99 100 101 102 104 105 106 108 110 113 114 115 117 118 119\n",
      " 121 122 123 124 125 126 127 128 129 130 131 132 133 134 135 136 137 138\n",
      " 139 140 141 142 145 146 147 149 151 155 156 157 158 159 160 161 162 163\n",
      " 164 165 166 167 168 169 171 172 174 175 176 177 178 180 181 183 186 187\n",
      " 188 189 190 194 195 197 198 199 200 201 202 203 204 205 206 207 208 209\n",
      " 211 212 214 215 216 218 219 220 221 223 224 226 227 228 229 230 231 234\n",
      " 236 237 238 239 241 243 245 246 247 248 249 250 251 252 253 255 256 257\n",
      " 259 262 263 264 265 266 267 268 269 270 273 274 275 276 277 278 279 281\n",
      " 282 283 285 286 290 291 292 293 294 295 297 298 299 302 304 305 307 309\n",
      " 310 312 313 314 315 317 318 319 320 321 322 323 324 325 326 328 329 330\n",
      " 331 332 333 334 335 336 337 338 339 340 343 344 345 346 347 350 351 352\n",
      " 355 357 358 359 360 361 362 364 365 366 367 368 369 371 372 374 375 376\n",
      " 377 378 379 380 381 383 385 387 389 390 391 392 393 394 395 396 397 398\n",
      " 400 401 402 403 404 405 406 407 408 410 414 416 418 419 420 421 422 423\n",
      " 424 426 427 428 429 430 431 432 433 434 436 437 438 439 440 441 442 443\n",
      " 444 445 446 447 448 449 450 452 453 455 456 457 459 460 461 462 463 464\n",
      " 465 466 468 469 470 472 473 474 475 476 477 478 479 480 481 482 483 484\n",
      " 485 486 487 488 489 490 492 493 495 496 497 499 500 501 502 503 504 506\n",
      " 507 508 509 510 511 512 513 514 516 517 518 519 520 521 522 523 524 525\n",
      " 526 527 529 530 531 532 533 534 535 538 539 540 541 543 544 545 546 547\n",
      " 548 549 550 551 552 555 556 559 560 562 563 564 565 566 567 568 569 571\n",
      " 572 573 574 575 576 577 578 580 581 583 584 585 586 587 588 590 591 592\n",
      " 593 594 595 596 597 598 599 600 601 602 603 604 605 607 608 609 610 611\n",
      " 612 613 614 615 616 617 618 619 620 621 622 623 624 626 628 629 630 631\n",
      " 633 634 635 636 638 639 640 641 642 643 644 646 647 648 649 651 653 654\n",
      " 656 657 659 660 661 662 663 664 665 666 667 668 669 670 671 672 673 674\n",
      " 675 676 677 678 679 680 681 682 683 684 685 686 688 689 690 691 693 696\n",
      " 697 698 699 700 701 702 704 705 706 708 709 710 711 712 714 715 716 717\n",
      " 718 719 720 722 723 725 726 728 729 731 732 733 735 736 737 738 739 740\n",
      " 741 742 745 746 749 750 751 752 753 754 755 756 757 759] TEST: [  2   5   8  10  11  14  19  24  29  30  32  33  39  42  43  44  45  52\n",
      "  61  66  84  91  95  96 103 107 109 111 112 116 120 143 144 148 150 152\n",
      " 153 154 170 173 179 182 184 185 191 192 193 196 210 213 217 222 225 232\n",
      " 233 235 240 242 244 254 258 260 261 271 272 280 284 287 288 289 296 300\n",
      " 301 303 306 308 311 316 327 341 342 348 349 353 354 356 363 370 373 382\n",
      " 384 386 388 399 409 411 412 413 415 417 425 435 451 454 458 467 471 491\n",
      " 494 498 505 515 528 536 537 542 553 554 557 558 561 570 579 582 589 606\n",
      " 625 627 632 637 645 650 652 655 658 687 692 694 695 703 707 713 721 724\n",
      " 727 730 734 743 744 747 748 758]\n",
      "TRAIN: [  0   1   2   3   4   5   6   7   8   9  10  11  12  13  14  15  16  17\n",
      "  19  21  22  24  25  26  27  29  30  31  32  33  34  35  36  37  38  39\n",
      "  40  41  42  43  44  45  46  48  49  50  51  52  54  55  56  57  58  60\n",
      "  61  62  63  64  65  66  68  70  71  73  74  76  77  79  81  82  83  84\n",
      "  85  86  87  88  89  90  91  93  94  95  96  98  99 100 101 103 104 105\n",
      " 106 107 108 109 110 111 112 113 114 116 117 118 119 120 121 123 124 125\n",
      " 128 129 130 131 132 133 136 137 138 139 140 141 142 143 144 145 148 149\n",
      " 150 151 152 153 154 156 157 158 160 161 162 163 165 166 167 168 169 170\n",
      " 173 174 175 176 177 178 179 180 181 182 183 184 185 187 188 189 191 192\n",
      " 193 195 196 197 198 199 200 201 202 203 206 207 208 209 210 211 212 213\n",
      " 214 217 218 220 221 222 223 224 225 227 228 229 230 231 232 233 234 235\n",
      " 236 238 239 240 241 242 244 245 246 247 248 249 250 251 252 253 254 255\n",
      " 256 257 258 259 260 261 262 263 267 268 269 271 272 273 276 277 278 279\n",
      " 280 281 282 284 285 286 287 288 289 290 292 293 294 296 297 298 300 301\n",
      " 302 303 305 306 307 308 310 311 312 315 316 317 318 320 321 322 323 324\n",
      " 325 327 329 330 331 332 333 334 335 337 338 341 342 344 346 348 349 351\n",
      " 353 354 355 356 357 358 359 360 361 362 363 365 367 368 369 370 371 372\n",
      " 373 374 375 380 381 382 383 384 386 387 388 389 390 391 392 393 394 395\n",
      " 397 398 399 401 402 403 404 405 407 408 409 411 412 413 414 415 417 418\n",
      " 420 421 422 423 425 426 428 429 430 432 433 434 435 436 437 438 439 440\n",
      " 441 442 445 446 447 448 449 450 451 452 453 454 455 456 457 458 459 463\n",
      " 464 465 466 467 468 469 471 472 473 474 475 476 477 478 479 482 483 484\n",
      " 485 486 487 488 489 490 491 492 493 494 495 498 499 500 501 502 503 504\n",
      " 505 506 508 509 510 512 513 514 515 517 518 520 521 522 523 524 525 526\n",
      " 528 529 530 532 536 537 538 539 540 542 543 544 545 547 550 551 553 554\n",
      " 555 556 557 558 559 561 562 564 566 567 568 569 570 572 573 575 576 577\n",
      " 578 579 581 582 584 588 589 590 591 592 593 594 596 597 598 599 602 603\n",
      " 605 606 607 608 609 610 611 612 613 614 615 616 617 618 620 624 625 626\n",
      " 627 628 630 631 632 633 634 635 636 637 638 639 640 642 643 645 646 649\n",
      " 650 651 652 653 655 657 658 659 660 662 663 665 666 667 668 669 670 671\n",
      " 675 676 677 680 681 683 684 685 686 687 688 689 690 691 692 693 694 695\n",
      " 696 697 699 700 701 702 703 704 706 707 709 710 711 712 713 714 715 716\n",
      " 718 719 720 721 722 723 724 725 726 727 729 730 731 734 736 737 739 741\n",
      " 742 743 744 746 747 748 749 750 752 753 754 756 757 758] TEST: [ 18  20  23  28  47  53  59  67  69  72  75  78  80  92  97 102 115 122\n",
      " 126 127 134 135 146 147 155 159 164 171 172 186 190 194 204 205 215 216\n",
      " 219 226 237 243 264 265 266 270 274 275 283 291 295 299 304 309 313 314\n",
      " 319 326 328 336 339 340 343 345 347 350 352 364 366 376 377 378 379 385\n",
      " 396 400 406 410 416 419 424 427 431 443 444 460 461 462 470 480 481 496\n",
      " 497 507 511 516 519 527 531 533 534 535 541 546 548 549 552 560 563 565\n",
      " 571 574 580 583 585 586 587 595 600 601 604 619 621 622 623 629 641 644\n",
      " 647 648 654 656 661 664 672 673 674 678 679 682 698 705 708 717 728 732\n",
      " 733 735 738 740 745 751 755 759]\n",
      "TRAIN: [  2   3   4   5   6   7   8   9  10  11  12  13  14  16  17  18  19  20\n",
      "  21  23  24  27  28  29  30  31  32  33  34  35  38  39  40  42  43  44\n",
      "  45  47  48  49  50  52  53  55  57  58  59  61  62  64  65  66  67  68\n",
      "  69  70  72  73  75  76  77  78  79  80  81  83  84  85  86  87  88  89\n",
      "  91  92  93  94  95  96  97  98  99 100 101 102 103 104 106 107 108 109\n",
      " 110 111 112 114 115 116 117 118 120 121 122 123 125 126 127 130 131 133\n",
      " 134 135 138 140 141 142 143 144 146 147 148 150 151 152 153 154 155 156\n",
      " 157 159 160 161 163 164 165 167 168 169 170 171 172 173 176 179 180 182\n",
      " 183 184 185 186 188 189 190 191 192 193 194 196 197 200 203 204 205 206\n",
      " 208 209 210 211 212 213 215 216 217 219 222 224 225 226 227 228 229 230\n",
      " 231 232 233 235 236 237 240 241 242 243 244 245 246 247 248 249 250 251\n",
      " 252 253 254 255 256 257 258 259 260 261 263 264 265 266 267 270 271 272\n",
      " 274 275 277 278 279 280 281 282 283 284 285 286 287 288 289 290 291 292\n",
      " 293 295 296 297 298 299 300 301 302 303 304 305 306 307 308 309 310 311\n",
      " 313 314 316 317 319 320 321 322 324 325 326 327 328 331 333 334 335 336\n",
      " 337 339 340 341 342 343 344 345 346 347 348 349 350 351 352 353 354 356\n",
      " 357 359 360 361 363 364 365 366 367 368 369 370 371 372 373 374 375 376\n",
      " 377 378 379 380 381 382 384 385 386 387 388 389 391 394 396 399 400 404\n",
      " 405 406 407 408 409 410 411 412 413 415 416 417 419 420 421 423 424 425\n",
      " 427 429 431 435 436 437 439 441 442 443 444 445 447 449 451 452 453 454\n",
      " 455 456 457 458 459 460 461 462 463 464 466 467 468 470 471 472 474 477\n",
      " 478 479 480 481 483 484 485 486 487 488 490 491 493 494 495 496 497 498\n",
      " 501 502 505 507 508 509 510 511 514 515 516 518 519 521 522 524 525 527\n",
      " 528 529 530 531 532 533 534 535 536 537 539 540 541 542 543 545 546 547\n",
      " 548 549 551 552 553 554 555 556 557 558 560 561 563 564 565 566 568 569\n",
      " 570 571 572 573 574 575 576 577 578 579 580 581 582 583 584 585 586 587\n",
      " 588 589 593 594 595 596 597 599 600 601 602 603 604 605 606 607 608 609\n",
      " 610 611 612 613 615 618 619 620 621 622 623 624 625 627 628 629 632 634\n",
      " 635 637 638 641 642 643 644 645 646 647 648 650 651 652 653 654 655 656\n",
      " 658 659 660 661 662 663 664 667 669 670 671 672 673 674 675 678 679 680\n",
      " 681 682 683 685 687 688 689 690 691 692 693 694 695 698 699 700 702 703\n",
      " 704 705 707 708 709 710 711 712 713 714 715 716 717 720 721 722 723 724\n",
      " 725 726 727 728 729 730 732 733 734 735 737 738 739 740 741 742 743 744\n",
      " 745 746 747 748 749 750 751 752 754 755 756 757 758 759] TEST: [  0   1  15  22  25  26  36  37  41  46  51  54  56  60  63  71  74  82\n",
      "  90 105 113 119 124 128 129 132 136 137 139 145 149 158 162 166 174 175\n",
      " 177 178 181 187 195 198 199 201 202 207 214 218 220 221 223 234 238 239\n",
      " 262 268 269 273 276 294 312 315 318 323 329 330 332 338 355 358 362 383\n",
      " 390 392 393 395 397 398 401 402 403 414 418 422 426 428 430 432 433 434\n",
      " 438 440 446 448 450 465 469 473 475 476 482 489 492 499 500 503 504 506\n",
      " 512 513 517 520 523 526 538 544 550 559 562 567 590 591 592 598 614 616\n",
      " 617 626 630 631 633 636 639 640 649 657 665 666 668 676 677 684 686 696\n",
      " 697 701 706 718 719 731 736 753]\n"
     ]
    }
   ],
   "source": [
    "i = 0\n",
    "for train_index, test_index  in  skf.split(X = np.zeros(numN), y = X):\n",
    "    print(\"TRAIN:\", train_index, \"TEST:\", test_index)\n",
    "    X_train, X_test = X[train_index], X[test_index]\n",
    "    CrossValIdx[i] = (train_index, test_index)\n",
    "    i += 1\n"
   ]
  },
  {
   "cell_type": "code",
   "execution_count": null,
   "id": "41d8a488",
   "metadata": {},
   "outputs": [],
   "source": []
  },
  {
   "cell_type": "code",
   "execution_count": 322,
   "id": "2ec824c1",
   "metadata": {},
   "outputs": [
    {
     "data": {
      "text/plain": [
       "(array([76., 75., 76.,  0., 75., 77.,  0., 76., 77., 76.]),\n",
       " array([0. , 0.7, 1.4, 2.1, 2.8, 3.5, 4.2, 4.9, 5.6, 6.3, 7. ]),\n",
       " <BarContainer object of 10 artists>)"
      ]
     },
     "execution_count": 322,
     "metadata": {},
     "output_type": "execute_result"
    },
    {
     "data": {
      "image/png": "[encoded data removed]",
      "text/plain": [
       "<Figure size 432x288 with 1 Axes>"
      ]
     },
     "metadata": {
      "needs_background": "light"
     },
     "output_type": "display_data"
    }
   ],
   "source": [
    "plt.hist(X_train)"
   ]
  },
  {
   "cell_type": "code",
   "execution_count": null,
   "id": "68362256",
   "metadata": {},
   "outputs": [],
   "source": [
    "\n",
    ">>> X = np.array([[1, 2], [3, 4], [1, 2], [3, 4]])\n",
    ">>> y = np.array([0, 0, 1, 1])\n",
    ">>> skf = StratifiedKFold(n_splits=2)\n",
    ">>> skf.get_n_splits(X, y)\n",
    "2"
   ]
  },
  {
   "cell_type": "code",
   "execution_count": null,
   "id": "d0e4dddc",
   "metadata": {},
   "outputs": [],
   "source": [
    "# Creating dat containing test and train indexes\n",
    "nfold = 2\n",
    "\n",
    "from sklearn.model_selection import StratifiedKFold\n",
    "skf = StratifiedKFold(n_splits=nfold,shuffle=False)\n",
    "CrossValIdx = [None] * nfold\n",
    "i = 0\n",
    "for train_index, test_index  in  skf.split(X = np.zeros(numN), y = X):\n",
    "    #print(\"TRAIN:\", train_index, \"TEST:\", test_index)\n",
    "    X_train, X_test = X[train_index], X[test_index]\n",
    "    CrossValIdx[i] = { 'train_index': train_index, 'test_index': test_index}\n",
    "    i += 1\n",
    "\n",
    " X_train = G[ CrossValIdx[0]['train_index']][:,np.newaxis]\n",
    " Y_train = np.squeeze(Y[:,sel_t, CrossValIdx[0]['train_index']]).shape\n",
    " phi_train = phi[ CrossValIdx[0]['train_index']][:,np.newaxis]\n",
    "\n",
    " X_test = G[ CrossValIdx[0]['test_index']][:,np.newaxis]\n",
    " Y_test = np.squeeze(Y[:,sel_t, CrossValIdx[0]['test_index']]).shape\n",
    " phi_test = phi[ CrossValIdx[0]['test_index']][:,np.newaxis]"
   ]
  },
  {
   "cell_type": "code",
   "execution_count": null,
   "id": "72461ca7",
   "metadata": {},
   "outputs": [],
   "source": [
    "\n",
    " X_train = G[ CrossValIdx[0]['train_index']][:,np.newaxis]\n",
    " Y_train = np.squeeze(Y[:,sel_t, CrossValIdx[0]['train_index']]).shape\n",
    " phi_train = phi[ CrossValIdx[0]['train_index']][:,np.newaxis]\n",
    "\n",
    " X_test = G[ CrossValIdx[0]['test_index']][:,np.newaxis]\n",
    " Y_test = np.squeeze(Y[:,sel_t, CrossValIdx[0]['test_index']]).shape\n",
    " phi_test = phi[ CrossValIdx[0]['test_index']][:,np.newaxis]"
   ]
  },
  {
   "cell_type": "code",
   "execution_count": 225,
   "id": "593fc5a5",
   "metadata": {},
   "outputs": [
    {
     "data": {
      "text/plain": [
       "array([ 1,  1,  1,  1,  1,  1,  1,  1,  1,  1,  1,  1,  1,  1,  1,  1,  1,\n",
       "        1,  1,  1,  1,  1,  1,  1,  1,  1,  1,  1,  1,  1,  1,  1,  1,  1,\n",
       "        1,  1,  1,  1,  1,  1,  1,  1,  1,  1,  1,  1,  1,  2,  2,  2,  2,\n",
       "        2,  2,  2,  2,  2,  2,  2,  2,  2,  2,  2,  2,  2,  2,  2,  2,  2,\n",
       "        2,  2,  2,  2,  2,  2,  2,  2,  2,  2,  2,  2,  2,  2,  2,  2,  2,\n",
       "        2,  2,  2,  2,  2,  2,  2,  2,  2,  3,  3,  3,  3,  3,  3,  3,  3,\n",
       "        3,  3,  3,  3,  3,  3,  3,  3,  3,  3,  3,  3,  3,  3,  3,  3,  3,\n",
       "        3,  3,  3,  3,  3,  3,  3,  3,  3,  3,  3,  3,  3,  3,  3,  3,  3,\n",
       "        3,  3,  3,  3,  3,  5,  5,  5,  5,  5,  5,  5,  5,  5,  5,  5,  5,\n",
       "        5,  5,  5,  5,  5,  5,  5,  5,  5,  5,  5,  5,  5,  5,  5,  5,  5,\n",
       "        5,  5,  5,  5,  5,  5,  5,  5,  5,  5,  5,  5,  5,  5,  5,  5,  5,\n",
       "        5,  6,  6,  6,  6,  6,  6,  6,  6,  6,  6,  6,  6,  6,  6,  6,  6,\n",
       "        6,  6,  6,  6,  6,  6,  6,  6,  6,  6,  6,  6,  6,  6,  6,  6,  6,\n",
       "        6,  6,  6,  6,  6,  6,  6,  6,  6,  6,  6,  6,  6,  6,  6,  8,  8,\n",
       "        8,  8,  8,  8,  8,  8,  8,  8,  8,  8,  8,  8,  8,  8,  8,  8,  8,\n",
       "        8,  8,  8,  8,  8,  8,  8,  8,  8,  8,  8,  8,  8,  8,  8,  8,  8,\n",
       "        8,  8,  8,  8,  8,  8,  8,  8,  8,  8,  8,  9,  9,  9,  9,  9,  9,\n",
       "        9,  9,  9,  9,  9,  9,  9,  9,  9,  9,  9,  9,  9,  9,  9,  9,  9,\n",
       "        9,  9,  9,  9,  9,  9,  9,  9,  9,  9,  9,  9,  9,  9,  9,  9,  9,\n",
       "        9,  9,  9,  9,  9,  9,  9,  9, 11, 11, 11, 11, 11, 11, 11, 11, 11,\n",
       "       11, 11, 11, 11, 11, 11, 11, 11, 11, 11, 11, 11, 11, 11, 11, 11, 11,\n",
       "       11, 11, 11, 11, 11, 11, 11, 11, 11, 11, 11, 11, 11, 11, 11, 11, 11,\n",
       "       11, 11, 11, 11])"
      ]
     },
     "execution_count": 225,
     "metadata": {},
     "output_type": "execute_result"
    }
   ],
   "source": [
    "G[dat[0].astype(int)]"
   ]
  },
  {
   "cell_type": "code",
   "execution_count": 229,
   "id": "4e67ee9e",
   "metadata": {},
   "outputs": [],
   "source": [
    "dat = [np.array([])]*nfold\n",
    "\n",
    "for iCond in range(nConds):\n",
    "    # Find indexes\n",
    "    indx = np.where(G == CONDS[iCond])[0]\n",
    "    n_indx = indx.size \n",
    "    # Shuffle indexes\n",
    "    indx = np.random.permutation(indx)\n",
    "    # Distribute across dat\n",
    "    nelemxfold = np.floor(indx.size/nfold)\n",
    "    groupNumber = np.repeat(np.arange(0,nfold), nelemxfold)\n",
    "\n",
    "    for iFold in range(nfold):\n",
    "        dat[iFold] = np.append(dat[iFold], indx[np.where(groupNumber == iFold)])\n",
    "\n",
    " "
   ]
  },
  {
   "cell_type": "code",
   "execution_count": 228,
   "id": "ee21c55c",
   "metadata": {},
   "outputs": [
    {
     "data": {
      "text/plain": [
       "array([697, 149, 699, 463, 742, 677, 351, 758, 520,  25, 584,  20, 139,\n",
       "        77,  81, 193,  64,  42, 703, 450, 381, 364, 654, 113, 459, 305,\n",
       "       746, 192, 260, 590, 147, 556, 551,  45, 481, 541, 236, 488, 519,\n",
       "       711,  83, 663, 140,   3, 306, 152, 494])"
      ]
     },
     "execution_count": 228,
     "metadata": {},
     "output_type": "execute_result"
    }
   ],
   "source": [
    " indx[np.where(groupNumber == iFold)]"
   ]
  },
  {
   "cell_type": "code",
   "execution_count": 227,
   "id": "da9591ca",
   "metadata": {},
   "outputs": [
    {
     "data": {
      "text/plain": [
       "[array([229., 753., 264., 389., 111., 482., 376., 371., 107., 122., 591.,\n",
       "        289., 570., 667., 658., 335., 698., 356., 690., 721., 737., 245.,\n",
       "        639., 391., 212., 527., 141., 329., 511., 752., 713.,   1., 759.,\n",
       "          7., 230., 413., 440., 708., 295., 598., 224., 521.,  47., 747.,\n",
       "        615., 480., 745., 384.,  91., 497., 201., 668.,  41., 474., 431.,\n",
       "        522., 200., 231., 128., 729., 715.,  50.,  86., 515., 422.,  49.,\n",
       "        244.,  23., 634., 353., 680., 661., 562.,  76., 673., 623., 287.,\n",
       "        605., 185., 744., 423., 266., 650., 689., 580., 225., 484., 164.,\n",
       "        679., 312., 263.,  78., 716., 347., 446., 235., 688., 135., 672.,\n",
       "        608., 537., 561., 378., 341., 576., 348.,  63., 565.,  75., 596.,\n",
       "        617., 575., 286.,  65., 362.,  16., 400., 311., 199., 660., 425.,\n",
       "        109., 726., 490., 404., 571., 426., 124.,  21., 741., 409., 621.,\n",
       "        340., 346., 134., 683., 105., 345.,  33.,  67., 232., 401., 665.,\n",
       "        651., 647., 485., 518., 643., 252., 500., 118., 454., 368.,  61.,\n",
       "        297.,  17., 194.,   9., 702., 560., 370., 633.,  44., 750., 365.,\n",
       "        458.,  12., 234., 712., 316., 248., 237., 467., 328., 174., 170.,\n",
       "        577.,  57., 267., 510., 756., 172., 387., 319., 432., 513., 692.,\n",
       "        253., 496., 146., 740.,   5., 517., 184., 383.,  53., 205., 405.,\n",
       "         51.,  99., 382., 355., 581., 657.,  89., 215., 468., 471., 447.,\n",
       "         62.,  43., 723., 271., 366., 635., 310., 228.,  39., 274., 442.,\n",
       "        735.,  90., 709., 619., 489., 206., 636., 693., 390., 183., 607.,\n",
       "        637., 530., 452., 258., 420., 443., 498., 725., 524., 339.,  55.,\n",
       "        301., 203., 410., 210.,  32.,  60.,  88., 343., 226., 123., 587.,\n",
       "         95., 142., 448., 727., 691., 662., 417., 538., 115., 732., 102.,\n",
       "        119., 694., 367., 536., 398., 106., 116.,  18., 314., 418., 625.,\n",
       "        630., 644., 731., 509., 685., 618., 162., 406., 656., 532., 273.,\n",
       "        743., 242., 603.,  94., 187., 325., 284., 681., 429., 552., 217.,\n",
       "        754., 129., 676., 136., 412., 593., 602.,  73., 457., 186., 114.,\n",
       "        435., 465., 144., 466., 243., 722., 545., 514., 445., 720.,  69.,\n",
       "        669., 250., 604., 168., 631., 582., 684., 219., 539., 195., 216.,\n",
       "        438., 257., 167., 270., 277., 169., 609., 100., 462., 589., 317.,\n",
       "         66., 358., 568., 385., 495.,   0., 486., 294., 611., 695., 393.,\n",
       "        544., 233., 303., 755., 159., 470., 282., 155., 595., 439., 220.,\n",
       "        279., 696.,  84.,  98., 222., 402., 553., 424., 600., 592., 416.,\n",
       "        324., 361., 326., 719.]),\n",
       " array([112., 451., 151., 512.,  24., 318., 227., 616., 564., 344., 337.,\n",
       "        620., 550., 275., 278., 455., 176., 150., 599., 558., 386., 293.,\n",
       "         28., 534., 659.,  37., 188., 453.,  15., 460., 330.,   4., 101.,\n",
       "        572.,  82.,  74., 379., 163., 132., 548., 632., 491., 373.,  79.,\n",
       "        464., 190.,  56., 648., 320., 280., 161.,  19., 700., 103., 487.,\n",
       "        372., 354., 375., 610., 757., 642., 434., 628., 433., 430., 421.,\n",
       "          6., 508., 238., 207., 175., 208., 523., 653., 249., 546.,   8.,\n",
       "        469., 307., 664., 349., 461., 363., 126., 526.,  96., 655., 502.,\n",
       "        403., 145., 396.,  72., 180., 166., 283., 160., 240., 117., 254.,\n",
       "        714., 436.,  71.,  52., 411., 414., 154., 535., 641., 640., 717.,\n",
       "        352., 504., 121.,  93., 157., 246., 736., 209., 120., 542., 332.,\n",
       "        477., 138., 506., 473., 574., 671., 594.,  68., 380., 718., 259.,\n",
       "        749., 331.,  87., 525., 476., 213., 255., 733., 428., 388., 408.,\n",
       "         11., 173., 566., 323., 153., 137., 674., 288., 586., 629., 724.,\n",
       "        728., 359., 223.,  10., 645., 549., 198., 479., 427., 646., 407.,\n",
       "        395., 158.,  92., 309., 369., 670., 419., 739.,  29., 559., 614.,\n",
       "        211., 612., 127., 601., 202., 547., 563., 706., 125., 133., 221.,\n",
       "         30.,  54., 251., 499., 626., 189., 333., 501., 543., 613., 313.,\n",
       "        181., 394., 540., 516., 531., 738., 177., 336.,  97., 675., 272.,\n",
       "        178., 579., 707.,  46., 554., 678., 374., 298., 583., 529., 377.,\n",
       "        649., 360., 130.,  26., 191.,  40., 734., 730., 342., 131., 214.,\n",
       "        327., 143., 104., 704., 334., 285., 705., 281.,  85., 296., 701.,\n",
       "        304., 588., 578.,  22., 638., 196., 165., 239., 569., 505., 456.,\n",
       "        156., 179., 478., 503., 622., 492., 247., 197., 555., 748., 437.,\n",
       "        533., 687., 256., 265.,  38.,  58., 399., 441., 218., 299., 308.,\n",
       "        397.,  13., 573., 276., 666.,  27., 321., 262., 338., 585., 300.,\n",
       "        624., 357., 302., 507., 268.,  48.,  80.,  31., 322., 291.,  36.,\n",
       "        171., 292., 350., 557., 493.,  35., 528., 710., 269., 567., 415.,\n",
       "        686., 108., 483.,  14., 290., 392., 597., 751., 475., 261.,   2.,\n",
       "        449.,  70., 148., 682., 652., 606., 444., 315.,  59., 182., 204.,\n",
       "         34., 697., 149., 699., 463., 742., 677., 351., 758., 520.,  25.,\n",
       "        584.,  20., 139.,  77.,  81., 193.,  64.,  42., 703., 450., 381.,\n",
       "        364., 654., 113., 459., 305., 746., 192., 260., 590., 147., 556.,\n",
       "        551.,  45., 481., 541., 236., 488., 519., 711.,  83., 663., 140.,\n",
       "          3., 306., 152., 494.])]"
      ]
     },
     "execution_count": 227,
     "metadata": {},
     "output_type": "execute_result"
    }
   ],
   "source": [
    "dat"
   ]
  },
  {
   "cell_type": "code",
   "execution_count": 39,
   "id": "0955206e",
   "metadata": {},
   "outputs": [
    {
     "data": {
      "text/plain": [
       "(array([95., 94., 95.,  0., 94., 96.,  0., 95., 96., 95.]),\n",
       " array([  0.  ,  15.75,  31.5 ,  47.25,  63.  ,  78.75,  94.5 , 110.25,\n",
       "        126.  , 141.75, 157.5 ]),\n",
       " <BarContainer object of 10 artists>)"
      ]
     },
     "execution_count": 39,
     "metadata": {},
     "output_type": "execute_result"
    },
    {
     "data": {
      "image/png": "[encoded data removed]",
      "text/plain": [
       "<Figure size 432x288 with 1 Axes>"
      ]
     },
     "metadata": {
      "needs_background": "light"
     },
     "output_type": "display_data"
    }
   ],
   "source": [
    "plt.hist(phi)"
   ]
  },
  {
   "cell_type": "code",
   "execution_count": 29,
   "id": "7bebee4c",
   "metadata": {},
   "outputs": [],
   "source": [
    "nfold = 2"
   ]
  },
  {
   "cell_type": "code",
   "execution_count": null,
   "id": "d303b7ab-d491-4294-ae3d-61a1c43293b4",
   "metadata": {},
   "outputs": [],
   "source": [
    "\n"
   ]
  },
  {
   "cell_type": "code",
   "execution_count": 42,
   "id": "051b5b77-c667-4957-a9c9-91f8b383d370",
   "metadata": {},
   "outputs": [
    {
     "data": {
      "text/plain": [
       "(array([120, 121, 122, 123, 124, 125, 126, 127, 128, 129, 130, 131, 132,\n",
       "        133, 134, 135, 136, 137, 138, 139, 140, 141, 142, 143, 144, 145,\n",
       "        146, 147, 148, 149, 150, 151, 152, 153, 154, 155, 156, 157, 158,\n",
       "        159, 160, 161, 162, 163, 164, 165, 166, 167, 168, 169, 170, 171,\n",
       "        172, 173, 174, 175, 176, 177, 178, 179, 180, 181, 182, 183, 184,\n",
       "        185, 186, 187, 188, 189, 190, 191, 192, 193, 194, 195, 196, 197,\n",
       "        198, 199, 200, 201, 202, 203, 204, 205, 206, 207, 208, 209, 210]),)"
      ]
     },
     "execution_count": 42,
     "metadata": {},
     "output_type": "execute_result"
    }
   ],
   "source": [
    "np.asarray(time >=.2).nonzero()"
   ]
  },
  {
   "cell_type": "code",
   "execution_count": 43,
   "id": "0e843fc1-7057-493c-a9b7-80ad0d8884e5",
   "metadata": {},
   "outputs": [
    {
     "data": {
      "text/plain": [
       "120"
      ]
     },
     "execution_count": 43,
     "metadata": {},
     "output_type": "execute_result"
    }
   ],
   "source": []
  }
 ],
 "metadata": {
  "kernelspec": {
   "display_name": "Python 3.7.13 ('mne')",
   "language": "python",
   "name": "python3"
  },
  "language_info": {
   "codemirror_mode": {
    "name": "ipython",
    "version": 3
   },
   "file_extension": ".py",
   "mimetype": "text/x-python",
   "name": "python",
   "nbconvert_exporter": "python",
   "pygments_lexer": "ipython3",
   "version": "3.7.13"
  },
  "vscode": {
   "interpreter": {
    "hash": "78277f196899d30b09f8eb84b1d60d6cc910a2e198812045736ce186b763ced0"
   }
  }
 },
 "nbformat": 4,
 "nbformat_minor": 5
}
